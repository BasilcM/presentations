{
 "cells": [
  {
   "cell_type": "markdown",
   "metadata": {},
   "source": [
    "# Introduction\n",
    "\n",
    "In this notebook, we will explore how to use AIF360 and AIX360 tool in creating an application for mortage approval\n",
    "\n",
    "Sections:\n",
    "    \n",
    "    1. File Read\n",
    "    2. Bias check and mitigation\n",
    "    3. Evaluate similar applicant\n",
    "    4. Contrastive explanations"
   ]
  },
  {
   "cell_type": "code",
   "execution_count": 69,
   "metadata": {},
   "outputs": [],
   "source": [
    "import pandas as pd\n",
    "import numpy as np\n",
    "import matplotlib.pyplot as plt\n",
    "# \n",
    "from sklearn import preprocessing\n",
    "from keras.models import Sequential, Model, load_model, model_from_json\n",
    "from keras.layers import Dense\n",
    "from IPython.display import Markdown, display\n",
    "from sklearn.model_selection import train_test_split\n",
    "import tensorflow as tf\n",
    "#\n",
    "import aif360\n",
    "import aix360\n",
    "from aif360.metrics import BinaryLabelDatasetMetric\n",
    "from aif360.datasets import BinaryLabelDataset\n",
    "from aif360.algorithms.preprocessing.reweighing import Reweighing\n",
    "from aix360.algorithms.protodash import ProtodashExplainer\n",
    "from aix360.algorithms.contrastive import CEMExplainer, KerasClassifier\n",
    "#\n",
    "import warnings\n",
    "warnings.filterwarnings(\"ignore\")"
   ]
  },
  {
   "cell_type": "markdown",
   "metadata": {},
   "source": [
    "# File Read"
   ]
  },
  {
   "cell_type": "code",
   "execution_count": 27,
   "metadata": {},
   "outputs": [],
   "source": [
    "data = pd.read_csv('preprocessed_data.csv')"
   ]
  },
  {
   "cell_type": "code",
   "execution_count": 28,
   "metadata": {},
   "outputs": [
    {
     "data": {
      "text/html": [
       "<div>\n",
       "<style scoped>\n",
       "    .dataframe tbody tr th:only-of-type {\n",
       "        vertical-align: middle;\n",
       "    }\n",
       "\n",
       "    .dataframe tbody tr th {\n",
       "        vertical-align: top;\n",
       "    }\n",
       "\n",
       "    .dataframe thead th {\n",
       "        text-align: right;\n",
       "    }\n",
       "</style>\n",
       "<table border=\"1\" class=\"dataframe\">\n",
       "  <thead>\n",
       "    <tr style=\"text-align: right;\">\n",
       "      <th></th>\n",
       "      <th>conforming_loan_limit</th>\n",
       "      <th>preapproval</th>\n",
       "      <th>loan_term</th>\n",
       "      <th>aus_1</th>\n",
       "      <th>applicant_age</th>\n",
       "      <th>applicant_credit_score_type</th>\n",
       "      <th>combined_loan_to_value_ratio</th>\n",
       "      <th>property_value</th>\n",
       "      <th>income</th>\n",
       "      <th>debt_to_income_ratio</th>\n",
       "      <th>loan_amount</th>\n",
       "      <th>applicant_ethnicity_1</th>\n",
       "      <th>applicant_race_1</th>\n",
       "      <th>applicant_sex</th>\n",
       "      <th>action_taken</th>\n",
       "    </tr>\n",
       "  </thead>\n",
       "  <tbody>\n",
       "    <tr>\n",
       "      <th>0</th>\n",
       "      <td>1</td>\n",
       "      <td>0</td>\n",
       "      <td>39</td>\n",
       "      <td>0</td>\n",
       "      <td>0</td>\n",
       "      <td>2</td>\n",
       "      <td>98.25</td>\n",
       "      <td>285000.0</td>\n",
       "      <td>74.0</td>\n",
       "      <td>7</td>\n",
       "      <td>285000.0</td>\n",
       "      <td>1</td>\n",
       "      <td>4</td>\n",
       "      <td>0</td>\n",
       "      <td>0</td>\n",
       "    </tr>\n",
       "    <tr>\n",
       "      <th>1</th>\n",
       "      <td>1</td>\n",
       "      <td>0</td>\n",
       "      <td>39</td>\n",
       "      <td>0</td>\n",
       "      <td>0</td>\n",
       "      <td>0</td>\n",
       "      <td>94.00</td>\n",
       "      <td>245000.0</td>\n",
       "      <td>50.0</td>\n",
       "      <td>19</td>\n",
       "      <td>235000.0</td>\n",
       "      <td>1</td>\n",
       "      <td>1</td>\n",
       "      <td>1</td>\n",
       "      <td>0</td>\n",
       "    </tr>\n",
       "    <tr>\n",
       "      <th>2</th>\n",
       "      <td>1</td>\n",
       "      <td>0</td>\n",
       "      <td>39</td>\n",
       "      <td>1</td>\n",
       "      <td>0</td>\n",
       "      <td>0</td>\n",
       "      <td>111.06</td>\n",
       "      <td>135000.0</td>\n",
       "      <td>35.0</td>\n",
       "      <td>4</td>\n",
       "      <td>155000.0</td>\n",
       "      <td>0</td>\n",
       "      <td>4</td>\n",
       "      <td>1</td>\n",
       "      <td>0</td>\n",
       "    </tr>\n",
       "    <tr>\n",
       "      <th>3</th>\n",
       "      <td>1</td>\n",
       "      <td>0</td>\n",
       "      <td>39</td>\n",
       "      <td>0</td>\n",
       "      <td>0</td>\n",
       "      <td>1</td>\n",
       "      <td>111.64</td>\n",
       "      <td>105000.0</td>\n",
       "      <td>31.0</td>\n",
       "      <td>4</td>\n",
       "      <td>115000.0</td>\n",
       "      <td>2</td>\n",
       "      <td>5</td>\n",
       "      <td>0</td>\n",
       "      <td>0</td>\n",
       "    </tr>\n",
       "    <tr>\n",
       "      <th>4</th>\n",
       "      <td>1</td>\n",
       "      <td>0</td>\n",
       "      <td>39</td>\n",
       "      <td>0</td>\n",
       "      <td>0</td>\n",
       "      <td>0</td>\n",
       "      <td>96.50</td>\n",
       "      <td>155000.0</td>\n",
       "      <td>34.0</td>\n",
       "      <td>19</td>\n",
       "      <td>155000.0</td>\n",
       "      <td>0</td>\n",
       "      <td>4</td>\n",
       "      <td>1</td>\n",
       "      <td>0</td>\n",
       "    </tr>\n",
       "  </tbody>\n",
       "</table>\n",
       "</div>"
      ],
      "text/plain": [
       "   conforming_loan_limit  preapproval  loan_term  aus_1  applicant_age  \\\n",
       "0                      1            0         39      0              0   \n",
       "1                      1            0         39      0              0   \n",
       "2                      1            0         39      1              0   \n",
       "3                      1            0         39      0              0   \n",
       "4                      1            0         39      0              0   \n",
       "\n",
       "   applicant_credit_score_type  combined_loan_to_value_ratio  property_value  \\\n",
       "0                            2                         98.25        285000.0   \n",
       "1                            0                         94.00        245000.0   \n",
       "2                            0                        111.06        135000.0   \n",
       "3                            1                        111.64        105000.0   \n",
       "4                            0                         96.50        155000.0   \n",
       "\n",
       "   income  debt_to_income_ratio  loan_amount  applicant_ethnicity_1  \\\n",
       "0    74.0                     7     285000.0                      1   \n",
       "1    50.0                    19     235000.0                      1   \n",
       "2    35.0                     4     155000.0                      0   \n",
       "3    31.0                     4     115000.0                      2   \n",
       "4    34.0                    19     155000.0                      0   \n",
       "\n",
       "   applicant_race_1  applicant_sex  action_taken  \n",
       "0                 4              0             0  \n",
       "1                 1              1             0  \n",
       "2                 4              1             0  \n",
       "3                 5              0             0  \n",
       "4                 4              1             0  "
      ]
     },
     "execution_count": 28,
     "metadata": {},
     "output_type": "execute_result"
    }
   ],
   "source": [
    "data.head()"
   ]
  },
  {
   "cell_type": "markdown",
   "metadata": {},
   "source": [
    "# AIF360"
   ]
  },
  {
   "cell_type": "code",
   "execution_count": 29,
   "metadata": {},
   "outputs": [],
   "source": [
    "# Sex\n",
    "# 0 - Male \n",
    "# 1 - Female \n",
    "# Action Taken\n",
    "# 0 - Application denied \n",
    "# 1 - Purchased Loan "
   ]
  },
  {
   "cell_type": "code",
   "execution_count": 30,
   "metadata": {},
   "outputs": [],
   "source": [
    "privileged_groups = [{'applicant_sex': 0}]\n",
    "unprivileged_groups = [{'applicant_sex': 1}]\n",
    "favorable_label = 1 \n",
    "unfavorable_label = 0"
   ]
  },
  {
   "cell_type": "code",
   "execution_count": 31,
   "metadata": {},
   "outputs": [
    {
     "name": "stdout",
     "output_type": "stream",
     "text": [
      "<class 'pandas.core.frame.DataFrame'>\n",
      "RangeIndex: 20000 entries, 0 to 19999\n",
      "Data columns (total 15 columns):\n",
      " #   Column                        Non-Null Count  Dtype  \n",
      "---  ------                        --------------  -----  \n",
      " 0   conforming_loan_limit         20000 non-null  int64  \n",
      " 1   preapproval                   20000 non-null  int64  \n",
      " 2   loan_term                     20000 non-null  int64  \n",
      " 3   aus_1                         20000 non-null  int64  \n",
      " 4   applicant_age                 20000 non-null  int64  \n",
      " 5   applicant_credit_score_type   20000 non-null  int64  \n",
      " 6   combined_loan_to_value_ratio  20000 non-null  float64\n",
      " 7   property_value                20000 non-null  float64\n",
      " 8   income                        20000 non-null  float64\n",
      " 9   debt_to_income_ratio          20000 non-null  int64  \n",
      " 10  loan_amount                   20000 non-null  float64\n",
      " 11  applicant_ethnicity_1         20000 non-null  int64  \n",
      " 12  applicant_race_1              20000 non-null  int64  \n",
      " 13  applicant_sex                 20000 non-null  int64  \n",
      " 14  action_taken                  20000 non-null  int64  \n",
      "dtypes: float64(4), int64(11)\n",
      "memory usage: 2.3 MB\n"
     ]
    }
   ],
   "source": [
    "data.info()"
   ]
  },
  {
   "cell_type": "code",
   "execution_count": 32,
   "metadata": {},
   "outputs": [],
   "source": [
    "BM_dataset = BinaryLabelDataset(favorable_label=1,\n",
    "                                unfavorable_label=0,\n",
    "                                df=data,\n",
    "                                label_names=['action_taken'],\n",
    "                                protected_attribute_names=['applicant_sex'],\n",
    "                                unprivileged_protected_attributes=[np.array([1])],\n",
    "                                privileged_protected_attributes=[np.array([0])])"
   ]
  },
  {
   "cell_type": "code",
   "execution_count": 33,
   "metadata": {},
   "outputs": [
    {
     "data": {
      "text/markdown": [
       "#### Training Data Details"
      ],
      "text/plain": [
       "<IPython.core.display.Markdown object>"
      ]
     },
     "metadata": {},
     "output_type": "display_data"
    },
    {
     "name": "stdout",
     "output_type": "stream",
     "text": [
      "shape of the training dataset (20000, 14)\n",
      "Training data favorable label 1.0\n",
      "Training data unfavorable label 0.0\n",
      "Training data protected attribute ['applicant_sex']\n",
      "Training data privileged protected attribute (1:Male and 0:Female) [array([0])]\n",
      "Training data unprivileged protected attribute (1:Male and 0:Female) [array([1])]\n"
     ]
    }
   ],
   "source": [
    "display(Markdown(\"#### Training Data Details\"))\n",
    "print(\"shape of the training dataset\", BM_dataset.features.shape)\n",
    "print(\"Training data favorable label\", BM_dataset.favorable_label)\n",
    "print(\"Training data unfavorable label\", BM_dataset.unfavorable_label)\n",
    "print(\"Training data protected attribute\", BM_dataset.protected_attribute_names)\n",
    "print(\"Training data privileged protected attribute (1:Male and 0:Female)\", \n",
    "      BM_dataset.privileged_protected_attributes)\n",
    "print(\"Training data unprivileged protected attribute (1:Male and 0:Female)\",\n",
    "      BM_dataset.unprivileged_protected_attributes)"
   ]
  },
  {
   "cell_type": "code",
   "execution_count": 34,
   "metadata": {},
   "outputs": [
    {
     "name": "stdout",
     "output_type": "stream",
     "text": [
      "Difference in mean outcomes between unprivileged and privileged groups = -0.045728\n"
     ]
    }
   ],
   "source": [
    "metric_orig_train = BinaryLabelDatasetMetric(BM_dataset, \n",
    "                                             unprivileged_groups=unprivileged_groups,\n",
    "                                             privileged_groups=privileged_groups)\n",
    "print(\"Difference in mean outcomes between unprivileged and privileged groups = %f\" % \n",
    "      metric_orig_train.mean_difference())"
   ]
  },
  {
   "cell_type": "code",
   "execution_count": 35,
   "metadata": {},
   "outputs": [],
   "source": [
    "RW = Reweighing(unprivileged_groups=unprivileged_groups,\n",
    "               privileged_groups=privileged_groups)\n",
    "RW.fit(BM_dataset)\n",
    "train_tf_dataset = RW.transform(BM_dataset)"
   ]
  },
  {
   "cell_type": "code",
   "execution_count": 36,
   "metadata": {},
   "outputs": [
    {
     "name": "stdout",
     "output_type": "stream",
     "text": [
      "Difference in mean outcomes between unprivileged and privileged groups = 0.000000\n"
     ]
    }
   ],
   "source": [
    "metric_orig_train_updated = BinaryLabelDatasetMetric(train_tf_dataset, \n",
    "                                             unprivileged_groups=unprivileged_groups,\n",
    "                                             privileged_groups=privileged_groups)\n",
    "\n",
    "print(\"Difference in mean outcomes between unprivileged and privileged groups = %f\"\n",
    "      % metric_orig_train_updated.mean_difference())"
   ]
  },
  {
   "cell_type": "markdown",
   "metadata": {},
   "source": [
    "# AIX360"
   ]
  },
  {
   "cell_type": "code",
   "execution_count": 37,
   "metadata": {},
   "outputs": [],
   "source": [
    "dfTrain, dfTest, yTrain, yTest = train_test_split(train_tf_dataset.features, train_tf_dataset.labels, random_state=0)"
   ]
  },
  {
   "cell_type": "code",
   "execution_count": 38,
   "metadata": {},
   "outputs": [
    {
     "data": {
      "text/plain": [
       "(15000, 14)"
      ]
     },
     "execution_count": 38,
     "metadata": {},
     "output_type": "execute_result"
    }
   ],
   "source": [
    "dfTrain.shape"
   ]
  },
  {
   "cell_type": "code",
   "execution_count": 39,
   "metadata": {},
   "outputs": [
    {
     "data": {
      "text/plain": [
       "(5000, 14)"
      ]
     },
     "execution_count": 39,
     "metadata": {},
     "output_type": "execute_result"
    }
   ],
   "source": [
    "dfTest.shape"
   ]
  },
  {
   "cell_type": "code",
   "execution_count": 100,
   "metadata": {},
   "outputs": [],
   "source": [
    "# Simple neural network for the classification task\n",
    "def nn_small():\n",
    "    model = Sequential()\n",
    "    model.add(Dense(500, input_dim=14, activation='tanh'))\n",
    "    model.add(Dense(500, activation='relu'))\n",
    "    model.add(Dense(2))    \n",
    "    return model"
   ]
  },
  {
   "cell_type": "code",
   "execution_count": 101,
   "metadata": {},
   "outputs": [
    {
     "name": "stdout",
     "output_type": "stream",
     "text": [
      "Model: \"sequential_5\"\n",
      "_________________________________________________________________\n",
      "Layer (type)                 Output Shape              Param #   \n",
      "=================================================================\n",
      "dense_13 (Dense)             (None, 500)               7500      \n",
      "_________________________________________________________________\n",
      "dense_14 (Dense)             (None, 500)               250500    \n",
      "_________________________________________________________________\n",
      "dense_15 (Dense)             (None, 2)                 1002      \n",
      "=================================================================\n",
      "Total params: 259,002\n",
      "Trainable params: 259,002\n",
      "Non-trainable params: 0\n",
      "_________________________________________________________________\n"
     ]
    }
   ],
   "source": [
    "# loss function\n",
    "def fn(correct, predicted):\n",
    "    return tf.nn.softmax_cross_entropy_with_logits(labels=correct, logits=predicted)\n",
    "\n",
    "nn = nn_small()\n",
    "nn.compile(loss=fn, optimizer='adam', metrics=['accuracy'])\n",
    "nn.summary()"
   ]
  },
  {
   "cell_type": "code",
   "execution_count": 106,
   "metadata": {},
   "outputs": [],
   "source": [
    "# To train uncomment this cell\n",
    "\n",
    "# nn.fit(dfTrain, yTrain, batch_size=32, epochs=10, verbose=1, shuffle=False)\n",
    "\n",
    "# nn.save_weights(\"trained_model.h5\")     "
   ]
  },
  {
   "cell_type": "raw",
   "metadata": {},
   "source": [
    "### Load trained model weights "
   ]
  },
  {
   "cell_type": "code",
   "execution_count": 103,
   "metadata": {},
   "outputs": [],
   "source": [
    "nn.load_weights(\"trained_model.h5\")"
   ]
  },
  {
   "cell_type": "markdown",
   "metadata": {},
   "source": [
    "### Display similar applicant user profiles and the extent to which they are similar to the chosen applicant as indicated by the last row in the table below labelled as \"Weight\"."
   ]
  },
  {
   "cell_type": "markdown",
   "metadata": {},
   "source": [
    "##### Explainer used:\n",
    "\n",
    "ProtodashExplainer provides exemplar-based explanations for summarizing datasets as well as explaining predictions made by an AI model. It employs a fast gradient based algorithm to find prototypes along with their (non-negative) importance weights. The algorithm minimizes the maximum mean discrepancy metric and has constant factor approximation guarantees for this weakly submodular function.\n",
    "\n",
    "\n",
    "More Details: \n",
    "https://aix360.readthedocs.io/en/latest/die.html#protodash-explainer"
   ]
  },
  {
   "cell_type": "code",
   "execution_count": 104,
   "metadata": {},
   "outputs": [],
   "source": [
    "p_train = nn.predict_classes(dfTrain) # Use trained neural network to predict train points\n",
    "p_train = p_train.reshape((p_train.shape[0],1))\n",
    "\n",
    "z_train = np.hstack((dfTrain, p_train)) # Store (normalized) instances that were predicted as Accepted\n",
    "z_train_good = z_train[z_train[:,-1]==1, :]"
   ]
  },
  {
   "cell_type": "code",
   "execution_count": 105,
   "metadata": {},
   "outputs": [
    {
     "name": "stdout",
     "output_type": "stream",
     "text": [
      "Chosen Sample: 86\n",
      "Prediction made by the model: Accepted\n",
      "Prediction probabilities: [[-874642.56 -874573.56]]\n",
      "\n"
     ]
    },
    {
     "data": {
      "text/html": [
       "<div>\n",
       "<style scoped>\n",
       "    .dataframe tbody tr th:only-of-type {\n",
       "        vertical-align: middle;\n",
       "    }\n",
       "\n",
       "    .dataframe tbody tr th {\n",
       "        vertical-align: top;\n",
       "    }\n",
       "\n",
       "    .dataframe thead th {\n",
       "        text-align: right;\n",
       "    }\n",
       "</style>\n",
       "<table border=\"1\" class=\"dataframe\">\n",
       "  <thead>\n",
       "    <tr style=\"text-align: right;\">\n",
       "      <th></th>\n",
       "      <th>0</th>\n",
       "    </tr>\n",
       "  </thead>\n",
       "  <tbody>\n",
       "    <tr>\n",
       "      <th>conforming_loan_limit</th>\n",
       "      <td>3</td>\n",
       "    </tr>\n",
       "    <tr>\n",
       "      <th>preapproval</th>\n",
       "      <td>0</td>\n",
       "    </tr>\n",
       "    <tr>\n",
       "      <th>loan_term</th>\n",
       "      <td>2</td>\n",
       "    </tr>\n",
       "    <tr>\n",
       "      <th>aus_1</th>\n",
       "      <td>5</td>\n",
       "    </tr>\n",
       "    <tr>\n",
       "      <th>applicant_age</th>\n",
       "      <td>0</td>\n",
       "    </tr>\n",
       "    <tr>\n",
       "      <th>applicant_credit_score_type</th>\n",
       "      <td>6</td>\n",
       "    </tr>\n",
       "    <tr>\n",
       "      <th>combined_loan_to_value_ratio</th>\n",
       "      <td>0</td>\n",
       "    </tr>\n",
       "    <tr>\n",
       "      <th>property_value</th>\n",
       "      <td>75000</td>\n",
       "    </tr>\n",
       "    <tr>\n",
       "      <th>income</th>\n",
       "      <td>180000</td>\n",
       "    </tr>\n",
       "    <tr>\n",
       "      <th>debt_to_income_ratio</th>\n",
       "      <td>0</td>\n",
       "    </tr>\n",
       "    <tr>\n",
       "      <th>loan_amount</th>\n",
       "      <td>855000</td>\n",
       "    </tr>\n",
       "    <tr>\n",
       "      <th>applicant_ethnicity_1</th>\n",
       "      <td>0</td>\n",
       "    </tr>\n",
       "    <tr>\n",
       "      <th>applicant_race_1</th>\n",
       "      <td>6</td>\n",
       "    </tr>\n",
       "    <tr>\n",
       "      <th>applicant_sex</th>\n",
       "      <td>0</td>\n",
       "    </tr>\n",
       "    <tr>\n",
       "      <th>action_taken</th>\n",
       "      <td>Accepted</td>\n",
       "    </tr>\n",
       "  </tbody>\n",
       "</table>\n",
       "</div>"
      ],
      "text/plain": [
       "                                     0\n",
       "conforming_loan_limit                3\n",
       "preapproval                          0\n",
       "loan_term                            2\n",
       "aus_1                                5\n",
       "applicant_age                        0\n",
       "applicant_credit_score_type          6\n",
       "combined_loan_to_value_ratio         0\n",
       "property_value                   75000\n",
       "income                          180000\n",
       "debt_to_income_ratio                 0\n",
       "loan_amount                     855000\n",
       "applicant_ethnicity_1                0\n",
       "applicant_race_1                     6\n",
       "applicant_sex                        0\n",
       "action_taken                  Accepted"
      ]
     },
     "execution_count": 105,
     "metadata": {},
     "output_type": "execute_result"
    }
   ],
   "source": [
    "idx = 86\n",
    "\n",
    "class_names = ['Denied', 'Accepted']\n",
    "\n",
    "X = dfTest[idx].reshape((1,) + dfTest[idx].shape)\n",
    "\n",
    "print(\"Chosen Sample:\", idx)\n",
    "print(\"Prediction made by the model:\", class_names[np.argmax(nn.predict_proba(X))])\n",
    "print(\"Prediction probabilities:\", nn.predict_proba(X))\n",
    "print(\"\")\n",
    "\n",
    "# attach the prediction made by the model to X\n",
    "X = np.hstack((X, nn.predict_classes(X).reshape((1,1))))\n",
    "\n",
    "Xun = dfTest[idx].reshape((1,) + dfTest[idx].shape) \n",
    "dfx = pd.DataFrame.from_records(Xun.astype('double')) # Create dataframe with original feature values\n",
    "dfx[14] = class_names[int(X[0, -1])]\n",
    "dfx.columns = data.columns\n",
    "dfx.transpose()"
   ]
  },
  {
   "cell_type": "code",
   "execution_count": 61,
   "metadata": {},
   "outputs": [
    {
     "name": "stdout",
     "output_type": "stream",
     "text": [
      "     pcost       dcost       gap    pres   dres\n",
      " 0:  0.0000e+00 -2.0000e+04  4e+00  1e+00  1e+00\n",
      " 1: -3.7958e+11 -2.3789e+12  2e+12  5e-13  1e-16\n",
      " 2: -3.7958e+11 -3.9957e+11  2e+10  5e-15  3e-17\n",
      " 3: -3.7958e+11 -3.7978e+11  2e+08  3e-16  9e-17\n",
      " 4: -3.7958e+11 -3.7958e+11  2e+06  3e-16  7e-17\n",
      " 5: -3.7958e+11 -3.7958e+11  2e+04  1e-16  1e-16\n",
      "Optimal solution found.\n"
     ]
    }
   ],
   "source": [
    "explainer = ProtodashExplainer()\n",
    "(W, S, setValues) = explainer.explain(X, z_train_good, m=2) # Return weights W, Prototypes S and objective function values"
   ]
  },
  {
   "cell_type": "code",
   "execution_count": 64,
   "metadata": {},
   "outputs": [
    {
     "data": {
      "text/html": [
       "<div>\n",
       "<style scoped>\n",
       "    .dataframe tbody tr th:only-of-type {\n",
       "        vertical-align: middle;\n",
       "    }\n",
       "\n",
       "    .dataframe tbody tr th {\n",
       "        vertical-align: top;\n",
       "    }\n",
       "\n",
       "    .dataframe thead th {\n",
       "        text-align: right;\n",
       "    }\n",
       "</style>\n",
       "<table border=\"1\" class=\"dataframe\">\n",
       "  <thead>\n",
       "    <tr style=\"text-align: right;\">\n",
       "      <th></th>\n",
       "      <th>0</th>\n",
       "      <th>1</th>\n",
       "    </tr>\n",
       "  </thead>\n",
       "  <tbody>\n",
       "    <tr>\n",
       "      <th>conforming_loan_limit</th>\n",
       "      <td>2</td>\n",
       "      <td>1</td>\n",
       "    </tr>\n",
       "    <tr>\n",
       "      <th>preapproval</th>\n",
       "      <td>0</td>\n",
       "      <td>0</td>\n",
       "    </tr>\n",
       "    <tr>\n",
       "      <th>loan_term</th>\n",
       "      <td>2</td>\n",
       "      <td>2</td>\n",
       "    </tr>\n",
       "    <tr>\n",
       "      <th>aus_1</th>\n",
       "      <td>5</td>\n",
       "      <td>5</td>\n",
       "    </tr>\n",
       "    <tr>\n",
       "      <th>applicant_age</th>\n",
       "      <td>2</td>\n",
       "      <td>5</td>\n",
       "    </tr>\n",
       "    <tr>\n",
       "      <th>applicant_credit_score_type</th>\n",
       "      <td>6</td>\n",
       "      <td>6</td>\n",
       "    </tr>\n",
       "    <tr>\n",
       "      <th>combined_loan_to_value_ratio</th>\n",
       "      <td>0</td>\n",
       "      <td>0</td>\n",
       "    </tr>\n",
       "    <tr>\n",
       "      <th>property_value</th>\n",
       "      <td>105000</td>\n",
       "      <td>605000</td>\n",
       "    </tr>\n",
       "    <tr>\n",
       "      <th>income</th>\n",
       "      <td>93000</td>\n",
       "      <td>325000</td>\n",
       "    </tr>\n",
       "    <tr>\n",
       "      <th>debt_to_income_ratio</th>\n",
       "      <td>0</td>\n",
       "      <td>0</td>\n",
       "    </tr>\n",
       "    <tr>\n",
       "      <th>loan_amount</th>\n",
       "      <td>1.155e+06</td>\n",
       "      <td>155000</td>\n",
       "    </tr>\n",
       "    <tr>\n",
       "      <th>applicant_ethnicity_1</th>\n",
       "      <td>0</td>\n",
       "      <td>0</td>\n",
       "    </tr>\n",
       "    <tr>\n",
       "      <th>applicant_race_1</th>\n",
       "      <td>6</td>\n",
       "      <td>6</td>\n",
       "    </tr>\n",
       "    <tr>\n",
       "      <th>applicant_sex</th>\n",
       "      <td>0</td>\n",
       "      <td>0</td>\n",
       "    </tr>\n",
       "    <tr>\n",
       "      <th>action_taken</th>\n",
       "      <td>Accepted</td>\n",
       "      <td>Accepted</td>\n",
       "    </tr>\n",
       "    <tr>\n",
       "      <th>Weight</th>\n",
       "      <td>0.9125</td>\n",
       "      <td>0.0875</td>\n",
       "    </tr>\n",
       "  </tbody>\n",
       "</table>\n",
       "</div>"
      ],
      "text/plain": [
       "                                      0         1\n",
       "conforming_loan_limit                 2         1\n",
       "preapproval                           0         0\n",
       "loan_term                             2         2\n",
       "aus_1                                 5         5\n",
       "applicant_age                         2         5\n",
       "applicant_credit_score_type           6         6\n",
       "combined_loan_to_value_ratio          0         0\n",
       "property_value                   105000    605000\n",
       "income                            93000    325000\n",
       "debt_to_income_ratio                  0         0\n",
       "loan_amount                   1.155e+06    155000\n",
       "applicant_ethnicity_1                 0         0\n",
       "applicant_race_1                      6         6\n",
       "applicant_sex                         0         0\n",
       "action_taken                   Accepted  Accepted\n",
       "Weight                           0.9125    0.0875"
      ]
     },
     "execution_count": 64,
     "metadata": {},
     "output_type": "execute_result"
    }
   ],
   "source": [
    "dfs = pd.DataFrame.from_records(z_train_good[S, 0:-1].astype('double'))\n",
    "RP=[]\n",
    "for i in range(S.shape[0]):\n",
    "    RP.append(class_names[int(z_train_good[S[i], -1])]) # Append class names\n",
    "dfs[14] = RP\n",
    "dfs.columns = data.columns  \n",
    "dfs[\"Weight\"] = np.around(W, 2)/np.sum(np.around(W, 2)) # Calculate normalized importance weights\n",
    "dfs.transpose()"
   ]
  },
  {
   "cell_type": "markdown",
   "metadata": {},
   "source": [
    "# Contrastive explanations\n",
    "\n",
    "Example: when people ask for an explanation of an event -- the fact --- they (sometimes implicitly) are asking for an explanation relative to some contrast case; that is, \"Why P rather than Q?\"."
   ]
  },
  {
   "cell_type": "markdown",
   "metadata": {},
   "source": [
    "We now demonstrate how to compute contrastive explanations using AIX360 and how such explanations can help applicant understand the decisions made by AI models that approve or reject their applications.\n",
    "\n",
    "In this context, contrastive explanations provide information to applicants about what minimal changes to their profile would have changed the decision of the AI model from reject to accept or vice-versa (pertinent negatives).\n",
    "\n",
    "Terms:\n",
    "\n",
    "##### 1. Pertinent Negatives (PN) \n",
    "    \n",
    "   PNs identify a minimal set of features which if altered would change the classification of the original input. \n",
    "   \n",
    "   \n",
    "##### 2. Pertinent Positives (PP) : \n",
    "\n",
    "  PPs on the other hand identify a minimal set of features and their values that are sufficient to yield the original   input's classification. \n",
    "\n",
    "  For example, for an applicant whose HELOC application was approved, the explanation may say that even if the         number of satisfactory trades was reduced to a lower number, the loan would have still gotten through."
   ]
  },
  {
   "cell_type": "markdown",
   "metadata": {},
   "source": [
    "## Let's explore PP"
   ]
  },
  {
   "cell_type": "code",
   "execution_count": 107,
   "metadata": {},
   "outputs": [
    {
     "name": "stdout",
     "output_type": "stream",
     "text": [
      "Computing PP for Sample: 10\n",
      "Prediction made by the model: Accepted\n",
      "Prediction probabilities: [[-1903599.4 -1903450.5]]\n",
      "\n",
      "iter:0 const:[10.]\n",
      "Loss_Overall:1564267380736.0000, Loss_Attack:18934506.0000\n",
      "Loss_L2Dist:1564248375296.0000, Loss_L1Dist:1540140.6250, AE_loss:0.0\n",
      "target_lab_score:-1903450.5000, max_nontarget_lab_score:-10000.0000\n",
      "\n",
      "iter:500 const:[10.]\n",
      "Loss_Overall:1000389738496.0000, Loss_Attack:18934506.0000\n",
      "Loss_L2Dist:1000370667520.0000, Loss_L1Dist:1231662.2500, AE_loss:0.0\n",
      "target_lab_score:-1903450.5000, max_nontarget_lab_score:-10000.0000\n",
      "\n",
      "iter:0 const:[5.]\n",
      "Loss_Overall:1564257943552.0000, Loss_Attack:9467253.0000\n",
      "Loss_L2Dist:1564248375296.0000, Loss_L1Dist:1540140.6250, AE_loss:0.0\n",
      "target_lab_score:-1903450.5000, max_nontarget_lab_score:-10000.0000\n",
      "\n",
      "iter:500 const:[5.]\n",
      "Loss_Overall:822699884544.0000, Loss_Attack:9467253.0000\n",
      "Loss_L2Dist:822690316288.0000, Loss_L1Dist:1116937.2500, AE_loss:0.0\n",
      "target_lab_score:-1903450.5000, max_nontarget_lab_score:-10000.0000\n",
      "\n",
      "iter:0 const:[2.5]\n",
      "Loss_Overall:1564253224960.0000, Loss_Attack:4733626.5000\n",
      "Loss_L2Dist:1564248375296.0000, Loss_L1Dist:1540140.6250, AE_loss:0.0\n",
      "target_lab_score:-1903450.5000, max_nontarget_lab_score:-10000.0000\n",
      "\n",
      "iter:500 const:[2.5]\n",
      "Loss_Overall:822695165952.0000, Loss_Attack:4733626.5000\n",
      "Loss_L2Dist:822690316288.0000, Loss_L1Dist:1116937.2500, AE_loss:0.0\n",
      "target_lab_score:-1903450.5000, max_nontarget_lab_score:-10000.0000\n",
      "\n",
      "iter:0 const:[1.25]\n",
      "Loss_Overall:1564250865664.0000, Loss_Attack:2366813.2500\n",
      "Loss_L2Dist:1564248375296.0000, Loss_L1Dist:1540140.6250, AE_loss:0.0\n",
      "target_lab_score:-1903450.5000, max_nontarget_lab_score:-10000.0000\n",
      "\n",
      "iter:500 const:[1.25]\n",
      "Loss_Overall:822692806656.0000, Loss_Attack:2366813.2500\n",
      "Loss_L2Dist:822690316288.0000, Loss_L1Dist:1116937.2500, AE_loss:0.0\n",
      "target_lab_score:-1903450.5000, max_nontarget_lab_score:-10000.0000\n",
      "\n",
      "iter:0 const:[0.625]\n",
      "Loss_Overall:1564249686016.0000, Loss_Attack:1183406.6250\n",
      "Loss_L2Dist:1564248375296.0000, Loss_L1Dist:1540140.6250, AE_loss:0.0\n",
      "target_lab_score:-1903450.5000, max_nontarget_lab_score:-10000.0000\n",
      "\n",
      "iter:500 const:[0.625]\n",
      "Loss_Overall:822691627008.0000, Loss_Attack:1183406.6250\n",
      "Loss_L2Dist:822690316288.0000, Loss_L1Dist:1116937.2500, AE_loss:0.0\n",
      "target_lab_score:-1903450.5000, max_nontarget_lab_score:-10000.0000\n",
      "\n",
      "iter:0 const:[0.3125]\n",
      "Loss_Overall:1564249161728.0000, Loss_Attack:591703.3125\n",
      "Loss_L2Dist:1564248375296.0000, Loss_L1Dist:1540140.6250, AE_loss:0.0\n",
      "target_lab_score:-1903450.5000, max_nontarget_lab_score:-10000.0000\n",
      "\n",
      "iter:500 const:[0.3125]\n",
      "Loss_Overall:822691037184.0000, Loss_Attack:591703.3125\n",
      "Loss_L2Dist:822690316288.0000, Loss_L1Dist:1116937.2500, AE_loss:0.0\n",
      "target_lab_score:-1903450.5000, max_nontarget_lab_score:-10000.0000\n",
      "\n",
      "iter:0 const:[0.15625]\n",
      "Loss_Overall:1564248768512.0000, Loss_Attack:295851.6562\n",
      "Loss_L2Dist:1564248375296.0000, Loss_L1Dist:1540140.6250, AE_loss:0.0\n",
      "target_lab_score:-1903450.5000, max_nontarget_lab_score:-10000.0000\n",
      "\n",
      "iter:500 const:[0.15625]\n",
      "Loss_Overall:822690775040.0000, Loss_Attack:295851.6562\n",
      "Loss_L2Dist:822690316288.0000, Loss_L1Dist:1116937.2500, AE_loss:0.0\n",
      "target_lab_score:-1903450.5000, max_nontarget_lab_score:-10000.0000\n",
      "\n",
      "iter:0 const:[0.078125]\n",
      "Loss_Overall:1564248637440.0000, Loss_Attack:147925.8281\n",
      "Loss_L2Dist:1564248375296.0000, Loss_L1Dist:1540139.8750, AE_loss:0.0\n",
      "target_lab_score:-1903450.5000, max_nontarget_lab_score:-10000.0000\n",
      "\n",
      "iter:500 const:[0.078125]\n",
      "Loss_Overall:822690578432.0000, Loss_Attack:147925.8281\n",
      "Loss_L2Dist:822690316288.0000, Loss_L1Dist:1116938.1250, AE_loss:0.0\n",
      "target_lab_score:-1903450.5000, max_nontarget_lab_score:-10000.0000\n",
      "\n",
      "iter:0 const:[0.0390625]\n",
      "Loss_Overall:1564248637440.0000, Loss_Attack:73962.9141\n",
      "Loss_L2Dist:1564248375296.0000, Loss_L1Dist:1540139.5000, AE_loss:0.0\n",
      "target_lab_score:-1903450.5000, max_nontarget_lab_score:-10000.0000\n",
      "\n",
      "iter:500 const:[0.0390625]\n",
      "Loss_Overall:822690512896.0000, Loss_Attack:73962.9141\n",
      "Loss_L2Dist:822690316288.0000, Loss_L1Dist:1116937.2500, AE_loss:0.0\n",
      "target_lab_score:-1903450.5000, max_nontarget_lab_score:-10000.0000\n",
      "\n"
     ]
    }
   ],
   "source": [
    "# Some interesting user samples to try: 8 9 11\n",
    "idx = 10\n",
    "\n",
    "X = dfTest[idx].reshape((1,) + dfTest[idx].shape)\n",
    "print(\"Computing PP for Sample:\", idx)\n",
    "print(\"Prediction made by the model:\", class_names[np.argmax(nn.predict_proba(X))])\n",
    "print(\"Prediction probabilities:\", nn.predict_proba(X))\n",
    "print(\"\")\n",
    "\n",
    "\n",
    "mymodel = KerasClassifier(nn)\n",
    "explainer = CEMExplainer(mymodel)\n",
    "\n",
    "arg_mode = 'PP' # Find pertinent positives\n",
    "arg_max_iter = 1000 # Maximum number of iterations to search for the optimal PN for given parameter settings\n",
    "arg_init_const = 10.0 # Initial coefficient value for main loss term that encourages class change\n",
    "arg_b = 9 # No. of updates to the coefficient of the main loss term\n",
    "arg_kappa = 0.1 # Minimum confidence gap between the PNs (changed) class probability and original class' probability\n",
    "arg_beta = 1e-1 # Controls sparsity of the solution (L1 loss)\n",
    "arg_gamma = 100 # Controls how much to adhere to a (optionally trained) auto-encoder\n",
    "my_AE_model = None # Pointer to an auto-encoder\n",
    "\n",
    "(adv_pp, delta_pp, info_pp) = explainer.explain_instance(X, arg_mode, my_AE_model, arg_kappa, arg_b,\n",
    "                                                         arg_max_iter, arg_init_const, arg_beta, arg_gamma)"
   ]
  },
  {
   "cell_type": "code",
   "execution_count": 109,
   "metadata": {},
   "outputs": [
    {
     "name": "stdout",
     "output_type": "stream",
     "text": [
      "PP for Sample: 10\n",
      "Prediction(Xpp) : Accepted\n",
      "Prediction probabilities for Xpp: [[-1831982.  -1831838.9]]\n",
      "\n"
     ]
    },
    {
     "data": {
      "text/html": [
       "<style  type=\"text/css\" >\n",
       "    #T_8387e498_8e2a_11ea_8596_88e9fe79ef52row0_col0 {\n",
       "            background-color:  yellow;\n",
       "        }    #T_8387e498_8e2a_11ea_8596_88e9fe79ef52row0_col1 {\n",
       "            background-color:  yellow;\n",
       "        }    #T_8387e498_8e2a_11ea_8596_88e9fe79ef52row1_col0 {\n",
       "            background-color:  yellow;\n",
       "        }    #T_8387e498_8e2a_11ea_8596_88e9fe79ef52row1_col1 {\n",
       "            background-color:  yellow;\n",
       "        }    #T_8387e498_8e2a_11ea_8596_88e9fe79ef52row2_col0 {\n",
       "            background-color:  yellow;\n",
       "        }    #T_8387e498_8e2a_11ea_8596_88e9fe79ef52row2_col1 {\n",
       "            background-color:  yellow;\n",
       "        }    #T_8387e498_8e2a_11ea_8596_88e9fe79ef52row3_col0 {\n",
       "            background-color:  white;\n",
       "        }    #T_8387e498_8e2a_11ea_8596_88e9fe79ef52row3_col1 {\n",
       "            background-color:  white;\n",
       "        }    #T_8387e498_8e2a_11ea_8596_88e9fe79ef52row4_col0 {\n",
       "            background-color:  yellow;\n",
       "        }    #T_8387e498_8e2a_11ea_8596_88e9fe79ef52row4_col1 {\n",
       "            background-color:  yellow;\n",
       "        }    #T_8387e498_8e2a_11ea_8596_88e9fe79ef52row5_col0 {\n",
       "            background-color:  yellow;\n",
       "        }    #T_8387e498_8e2a_11ea_8596_88e9fe79ef52row5_col1 {\n",
       "            background-color:  yellow;\n",
       "        }    #T_8387e498_8e2a_11ea_8596_88e9fe79ef52row6_col0 {\n",
       "            background-color:  yellow;\n",
       "        }    #T_8387e498_8e2a_11ea_8596_88e9fe79ef52row6_col1 {\n",
       "            background-color:  yellow;\n",
       "        }    #T_8387e498_8e2a_11ea_8596_88e9fe79ef52row7_col0 {\n",
       "            background-color:  yellow;\n",
       "        }    #T_8387e498_8e2a_11ea_8596_88e9fe79ef52row7_col1 {\n",
       "            background-color:  yellow;\n",
       "        }    #T_8387e498_8e2a_11ea_8596_88e9fe79ef52row8_col0 {\n",
       "            background-color:  yellow;\n",
       "        }    #T_8387e498_8e2a_11ea_8596_88e9fe79ef52row8_col1 {\n",
       "            background-color:  yellow;\n",
       "        }    #T_8387e498_8e2a_11ea_8596_88e9fe79ef52row9_col0 {\n",
       "            background-color:  yellow;\n",
       "        }    #T_8387e498_8e2a_11ea_8596_88e9fe79ef52row9_col1 {\n",
       "            background-color:  yellow;\n",
       "        }    #T_8387e498_8e2a_11ea_8596_88e9fe79ef52row10_col0 {\n",
       "            background-color:  yellow;\n",
       "        }    #T_8387e498_8e2a_11ea_8596_88e9fe79ef52row10_col1 {\n",
       "            background-color:  yellow;\n",
       "        }    #T_8387e498_8e2a_11ea_8596_88e9fe79ef52row11_col0 {\n",
       "            background-color:  yellow;\n",
       "        }    #T_8387e498_8e2a_11ea_8596_88e9fe79ef52row11_col1 {\n",
       "            background-color:  yellow;\n",
       "        }    #T_8387e498_8e2a_11ea_8596_88e9fe79ef52row12_col0 {\n",
       "            background-color:  yellow;\n",
       "        }    #T_8387e498_8e2a_11ea_8596_88e9fe79ef52row12_col1 {\n",
       "            background-color:  yellow;\n",
       "        }    #T_8387e498_8e2a_11ea_8596_88e9fe79ef52row13_col0 {\n",
       "            background-color:  yellow;\n",
       "        }    #T_8387e498_8e2a_11ea_8596_88e9fe79ef52row13_col1 {\n",
       "            background-color:  yellow;\n",
       "        }    #T_8387e498_8e2a_11ea_8596_88e9fe79ef52row14_col0 {\n",
       "            background-color:  white;\n",
       "        }    #T_8387e498_8e2a_11ea_8596_88e9fe79ef52row14_col1 {\n",
       "            background-color:  white;\n",
       "        }</style><table id=\"T_8387e498_8e2a_11ea_8596_88e9fe79ef52\" ><thead>    <tr>        <th class=\"blank level0\" ></th>        <th class=\"col_heading level0 col0\" >X</th>        <th class=\"col_heading level0 col1\" >X_PP</th>    </tr></thead><tbody>\n",
       "                <tr>\n",
       "                        <th id=\"T_8387e498_8e2a_11ea_8596_88e9fe79ef52level0_row0\" class=\"row_heading level0 row0\" >conforming_loan_limit</th>\n",
       "                        <td id=\"T_8387e498_8e2a_11ea_8596_88e9fe79ef52row0_col0\" class=\"data row0 col0\" >1.000000</td>\n",
       "                        <td id=\"T_8387e498_8e2a_11ea_8596_88e9fe79ef52row0_col1\" class=\"data row0 col1\" >1.500000</td>\n",
       "            </tr>\n",
       "            <tr>\n",
       "                        <th id=\"T_8387e498_8e2a_11ea_8596_88e9fe79ef52level0_row1\" class=\"row_heading level0 row1\" >preapproval</th>\n",
       "                        <td id=\"T_8387e498_8e2a_11ea_8596_88e9fe79ef52row1_col0\" class=\"data row1 col0\" >0.000000</td>\n",
       "                        <td id=\"T_8387e498_8e2a_11ea_8596_88e9fe79ef52row1_col1\" class=\"data row1 col1\" >0.500000</td>\n",
       "            </tr>\n",
       "            <tr>\n",
       "                        <th id=\"T_8387e498_8e2a_11ea_8596_88e9fe79ef52level0_row2\" class=\"row_heading level0 row2\" >loan_term</th>\n",
       "                        <td id=\"T_8387e498_8e2a_11ea_8596_88e9fe79ef52row2_col0\" class=\"data row2 col0\" >40.000000</td>\n",
       "                        <td id=\"T_8387e498_8e2a_11ea_8596_88e9fe79ef52row2_col1\" class=\"data row2 col1\" >10.990000</td>\n",
       "            </tr>\n",
       "            <tr>\n",
       "                        <th id=\"T_8387e498_8e2a_11ea_8596_88e9fe79ef52level0_row3\" class=\"row_heading level0 row3\" >aus_1</th>\n",
       "                        <td id=\"T_8387e498_8e2a_11ea_8596_88e9fe79ef52row3_col0\" class=\"data row3 col0\" >0.000000</td>\n",
       "                        <td id=\"T_8387e498_8e2a_11ea_8596_88e9fe79ef52row3_col1\" class=\"data row3 col1\" >0.000000</td>\n",
       "            </tr>\n",
       "            <tr>\n",
       "                        <th id=\"T_8387e498_8e2a_11ea_8596_88e9fe79ef52level0_row4\" class=\"row_heading level0 row4\" >applicant_age</th>\n",
       "                        <td id=\"T_8387e498_8e2a_11ea_8596_88e9fe79ef52row4_col0\" class=\"data row4 col0\" >7.000000</td>\n",
       "                        <td id=\"T_8387e498_8e2a_11ea_8596_88e9fe79ef52row4_col1\" class=\"data row4 col1\" >0.550000</td>\n",
       "            </tr>\n",
       "            <tr>\n",
       "                        <th id=\"T_8387e498_8e2a_11ea_8596_88e9fe79ef52level0_row5\" class=\"row_heading level0 row5\" >applicant_credit_score_type</th>\n",
       "                        <td id=\"T_8387e498_8e2a_11ea_8596_88e9fe79ef52row5_col0\" class=\"data row5 col0\" >1.000000</td>\n",
       "                        <td id=\"T_8387e498_8e2a_11ea_8596_88e9fe79ef52row5_col1\" class=\"data row5 col1\" >0.500000</td>\n",
       "            </tr>\n",
       "            <tr>\n",
       "                        <th id=\"T_8387e498_8e2a_11ea_8596_88e9fe79ef52level0_row6\" class=\"row_heading level0 row6\" >combined_loan_to_value_ratio</th>\n",
       "                        <td id=\"T_8387e498_8e2a_11ea_8596_88e9fe79ef52row6_col0\" class=\"data row6 col0\" >28.080000</td>\n",
       "                        <td id=\"T_8387e498_8e2a_11ea_8596_88e9fe79ef52row6_col1\" class=\"data row6 col1\" >27.580000</td>\n",
       "            </tr>\n",
       "            <tr>\n",
       "                        <th id=\"T_8387e498_8e2a_11ea_8596_88e9fe79ef52level0_row7\" class=\"row_heading level0 row7\" >property_value</th>\n",
       "                        <td id=\"T_8387e498_8e2a_11ea_8596_88e9fe79ef52row7_col0\" class=\"data row7 col0\" >1205000.000000</td>\n",
       "                        <td id=\"T_8387e498_8e2a_11ea_8596_88e9fe79ef52row7_col1\" class=\"data row7 col1\" >604.500000</td>\n",
       "            </tr>\n",
       "            <tr>\n",
       "                        <th id=\"T_8387e498_8e2a_11ea_8596_88e9fe79ef52level0_row8\" class=\"row_heading level0 row8\" >income</th>\n",
       "                        <td id=\"T_8387e498_8e2a_11ea_8596_88e9fe79ef52row8_col0\" class=\"data row8 col0\" >45.000000</td>\n",
       "                        <td id=\"T_8387e498_8e2a_11ea_8596_88e9fe79ef52row8_col1\" class=\"data row8 col1\" >4.220000</td>\n",
       "            </tr>\n",
       "            <tr>\n",
       "                        <th id=\"T_8387e498_8e2a_11ea_8596_88e9fe79ef52level0_row9\" class=\"row_heading level0 row9\" >debt_to_income_ratio</th>\n",
       "                        <td id=\"T_8387e498_8e2a_11ea_8596_88e9fe79ef52row9_col0\" class=\"data row9 col0\" >17.000000</td>\n",
       "                        <td id=\"T_8387e498_8e2a_11ea_8596_88e9fe79ef52row9_col1\" class=\"data row9 col1\" >16.500000</td>\n",
       "            </tr>\n",
       "            <tr>\n",
       "                        <th id=\"T_8387e498_8e2a_11ea_8596_88e9fe79ef52level0_row10\" class=\"row_heading level0 row10\" >loan_amount</th>\n",
       "                        <td id=\"T_8387e498_8e2a_11ea_8596_88e9fe79ef52row10_col0\" class=\"data row10 col0\" >335000.000000</td>\n",
       "                        <td id=\"T_8387e498_8e2a_11ea_8596_88e9fe79ef52row10_col1\" class=\"data row10 col1\" >112.660000</td>\n",
       "            </tr>\n",
       "            <tr>\n",
       "                        <th id=\"T_8387e498_8e2a_11ea_8596_88e9fe79ef52level0_row11\" class=\"row_heading level0 row11\" >applicant_ethnicity_1</th>\n",
       "                        <td id=\"T_8387e498_8e2a_11ea_8596_88e9fe79ef52row11_col0\" class=\"data row11 col0\" >1.000000</td>\n",
       "                        <td id=\"T_8387e498_8e2a_11ea_8596_88e9fe79ef52row11_col1\" class=\"data row11 col1\" >1.500000</td>\n",
       "            </tr>\n",
       "            <tr>\n",
       "                        <th id=\"T_8387e498_8e2a_11ea_8596_88e9fe79ef52level0_row12\" class=\"row_heading level0 row12\" >applicant_race_1</th>\n",
       "                        <td id=\"T_8387e498_8e2a_11ea_8596_88e9fe79ef52row12_col0\" class=\"data row12 col0\" >4.000000</td>\n",
       "                        <td id=\"T_8387e498_8e2a_11ea_8596_88e9fe79ef52row12_col1\" class=\"data row12 col1\" >3.500000</td>\n",
       "            </tr>\n",
       "            <tr>\n",
       "                        <th id=\"T_8387e498_8e2a_11ea_8596_88e9fe79ef52level0_row13\" class=\"row_heading level0 row13\" >applicant_sex</th>\n",
       "                        <td id=\"T_8387e498_8e2a_11ea_8596_88e9fe79ef52row13_col0\" class=\"data row13 col0\" >1.000000</td>\n",
       "                        <td id=\"T_8387e498_8e2a_11ea_8596_88e9fe79ef52row13_col1\" class=\"data row13 col1\" >0.500000</td>\n",
       "            </tr>\n",
       "            <tr>\n",
       "                        <th id=\"T_8387e498_8e2a_11ea_8596_88e9fe79ef52level0_row14\" class=\"row_heading level0 row14\" >action_taken</th>\n",
       "                        <td id=\"T_8387e498_8e2a_11ea_8596_88e9fe79ef52row14_col0\" class=\"data row14 col0\" >Accepted</td>\n",
       "                        <td id=\"T_8387e498_8e2a_11ea_8596_88e9fe79ef52row14_col1\" class=\"data row14 col1\" >Accepted</td>\n",
       "            </tr>\n",
       "    </tbody></table>"
      ],
      "text/plain": [
       "<pandas.io.formats.style.Styler at 0x1508592b0>"
      ]
     },
     "execution_count": 109,
     "metadata": {},
     "output_type": "execute_result"
    }
   ],
   "source": [
    "Xpp = delta_pp\n",
    "classes = [ class_names[np.argmax(nn.predict_proba(X))], class_names[np.argmax(nn.predict_proba(Xpp))]]\n",
    "\n",
    "print(\"PP for Sample:\", idx)\n",
    "print(\"Prediction(Xpp) :\", class_names[np.argmax(nn.predict_proba(Xpp))])\n",
    "print(\"Prediction probabilities for Xpp:\", nn.predict_proba(Xpp))\n",
    "print(\"\")\n",
    "\n",
    "\n",
    "Xpp_re = X - adv_pp\n",
    "Xpp_re = np.around(Xpp_re.astype(np.double), 2)\n",
    "Xpp_re[Xpp_re < 1e-4] = 0\n",
    "\n",
    "X2 = np.vstack((X, Xpp_re))\n",
    "\n",
    "dfpp = pd.DataFrame.from_records(X2.astype('double')) # Showcase a dataframe for the original point and PP\n",
    "dfpp[23] = classes\n",
    "dfpp.columns = data.columns\n",
    "dfpp.rename(index={0:'X',1:'X_PP'}, inplace=True)\n",
    "dfppt = dfpp.transpose()\n",
    "\n",
    "dfppt.style.apply(highlight_ce, col='X_PP', ncols=2, axis=1)"
   ]
  },
  {
   "cell_type": "code",
   "execution_count": 111,
   "metadata": {},
   "outputs": [
    {
     "data": {
      "image/png": "[encoded data removed]",
      "text/plain": [
       "<Figure size 640x480 with 1 Axes>"
      ]
     },
     "metadata": {},
     "output_type": "display_data"
    }
   ],
   "source": [
    "plt.rcdefaults()\n",
    "fi = abs(Xpp_re.astype('double'))/np.std(dfTrain.astype('double'), axis=0) # Compute PP feature importance\n",
    "    \n",
    "objects = data.columns[-2::-1]\n",
    "y_pos = np.arange(len(objects)) # Get input feature names\n",
    "performance = fi[0, -1::-1]\n",
    "\n",
    "plt.barh(y_pos, performance, align='center', alpha=0.5) # Bar chart\n",
    "plt.yticks(y_pos, objects) # Plot feature names on y-axis\n",
    "plt.xlabel('weight') #x-label\n",
    "plt.title('PP (feature importance)') # Figure heading\n",
    "\n",
    "plt.show()    # Display the feature importance"
   ]
  }
 ],
 "metadata": {
  "kernelspec": {
   "display_name": "Python 3",
   "language": "python",
   "name": "python3"
  },
  "language_info": {
   "codemirror_mode": {
    "name": "ipython",
    "version": 3
   },
   "file_extension": ".py",
   "mimetype": "text/x-python",
   "name": "python",
   "nbconvert_exporter": "python",
   "pygments_lexer": "ipython3",
   "version": "3.6.9"
  }
 },
 "nbformat": 4,
 "nbformat_minor": 2
}
