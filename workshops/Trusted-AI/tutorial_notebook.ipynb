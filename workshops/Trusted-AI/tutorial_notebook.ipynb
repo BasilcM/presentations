{
 "cells": [
  {
   "cell_type": "markdown",
   "metadata": {},
   "source": [
    "# Introduction\n",
    "\n",
    "In this notebook, we will explore how to use AIF360 and AIX360 tool in creating an application for mortage approval\n",
    "\n",
    "Sections:\n",
    "    \n",
    "    1. File Read\n",
    "    2. Bias check and mitigation\n",
    "    3. Evaluate similar applicant\n",
    "    4. Contrastive explanations"
   ]
  },
  {
   "cell_type": "code",
   "execution_count": 1,
   "metadata": {},
   "outputs": [
    {
     "name": "stderr",
     "output_type": "stream",
     "text": [
      "Using TensorFlow backend.\n",
      "/Users/saishruthi.tn@ibm.com/anaconda3/envs/watson_nlp/lib/python3.6/site-packages/tensorflow/python/framework/dtypes.py:516: FutureWarning: Passing (type, 1) or '1type' as a synonym of type is deprecated; in a future version of numpy, it will be understood as (type, (1,)) / '(1,)type'.\n",
      "  _np_qint8 = np.dtype([(\"qint8\", np.int8, 1)])\n",
      "/Users/saishruthi.tn@ibm.com/anaconda3/envs/watson_nlp/lib/python3.6/site-packages/tensorflow/python/framework/dtypes.py:517: FutureWarning: Passing (type, 1) or '1type' as a synonym of type is deprecated; in a future version of numpy, it will be understood as (type, (1,)) / '(1,)type'.\n",
      "  _np_quint8 = np.dtype([(\"quint8\", np.uint8, 1)])\n",
      "/Users/saishruthi.tn@ibm.com/anaconda3/envs/watson_nlp/lib/python3.6/site-packages/tensorflow/python/framework/dtypes.py:518: FutureWarning: Passing (type, 1) or '1type' as a synonym of type is deprecated; in a future version of numpy, it will be understood as (type, (1,)) / '(1,)type'.\n",
      "  _np_qint16 = np.dtype([(\"qint16\", np.int16, 1)])\n",
      "/Users/saishruthi.tn@ibm.com/anaconda3/envs/watson_nlp/lib/python3.6/site-packages/tensorflow/python/framework/dtypes.py:519: FutureWarning: Passing (type, 1) or '1type' as a synonym of type is deprecated; in a future version of numpy, it will be understood as (type, (1,)) / '(1,)type'.\n",
      "  _np_quint16 = np.dtype([(\"quint16\", np.uint16, 1)])\n",
      "/Users/saishruthi.tn@ibm.com/anaconda3/envs/watson_nlp/lib/python3.6/site-packages/tensorflow/python/framework/dtypes.py:520: FutureWarning: Passing (type, 1) or '1type' as a synonym of type is deprecated; in a future version of numpy, it will be understood as (type, (1,)) / '(1,)type'.\n",
      "  _np_qint32 = np.dtype([(\"qint32\", np.int32, 1)])\n",
      "/Users/saishruthi.tn@ibm.com/anaconda3/envs/watson_nlp/lib/python3.6/site-packages/tensorflow/python/framework/dtypes.py:525: FutureWarning: Passing (type, 1) or '1type' as a synonym of type is deprecated; in a future version of numpy, it will be understood as (type, (1,)) / '(1,)type'.\n",
      "  np_resource = np.dtype([(\"resource\", np.ubyte, 1)])\n",
      "/Users/saishruthi.tn@ibm.com/anaconda3/envs/watson_nlp/lib/python3.6/site-packages/tensorboard/compat/tensorflow_stub/dtypes.py:541: FutureWarning: Passing (type, 1) or '1type' as a synonym of type is deprecated; in a future version of numpy, it will be understood as (type, (1,)) / '(1,)type'.\n",
      "  _np_qint8 = np.dtype([(\"qint8\", np.int8, 1)])\n",
      "/Users/saishruthi.tn@ibm.com/anaconda3/envs/watson_nlp/lib/python3.6/site-packages/tensorboard/compat/tensorflow_stub/dtypes.py:542: FutureWarning: Passing (type, 1) or '1type' as a synonym of type is deprecated; in a future version of numpy, it will be understood as (type, (1,)) / '(1,)type'.\n",
      "  _np_quint8 = np.dtype([(\"quint8\", np.uint8, 1)])\n",
      "/Users/saishruthi.tn@ibm.com/anaconda3/envs/watson_nlp/lib/python3.6/site-packages/tensorboard/compat/tensorflow_stub/dtypes.py:543: FutureWarning: Passing (type, 1) or '1type' as a synonym of type is deprecated; in a future version of numpy, it will be understood as (type, (1,)) / '(1,)type'.\n",
      "  _np_qint16 = np.dtype([(\"qint16\", np.int16, 1)])\n",
      "/Users/saishruthi.tn@ibm.com/anaconda3/envs/watson_nlp/lib/python3.6/site-packages/tensorboard/compat/tensorflow_stub/dtypes.py:544: FutureWarning: Passing (type, 1) or '1type' as a synonym of type is deprecated; in a future version of numpy, it will be understood as (type, (1,)) / '(1,)type'.\n",
      "  _np_quint16 = np.dtype([(\"quint16\", np.uint16, 1)])\n",
      "/Users/saishruthi.tn@ibm.com/anaconda3/envs/watson_nlp/lib/python3.6/site-packages/tensorboard/compat/tensorflow_stub/dtypes.py:545: FutureWarning: Passing (type, 1) or '1type' as a synonym of type is deprecated; in a future version of numpy, it will be understood as (type, (1,)) / '(1,)type'.\n",
      "  _np_qint32 = np.dtype([(\"qint32\", np.int32, 1)])\n",
      "/Users/saishruthi.tn@ibm.com/anaconda3/envs/watson_nlp/lib/python3.6/site-packages/tensorboard/compat/tensorflow_stub/dtypes.py:550: FutureWarning: Passing (type, 1) or '1type' as a synonym of type is deprecated; in a future version of numpy, it will be understood as (type, (1,)) / '(1,)type'.\n",
      "  np_resource = np.dtype([(\"resource\", np.ubyte, 1)])\n",
      "/Users/saishruthi.tn@ibm.com/anaconda3/envs/watson_nlp/lib/python3.6/site-packages/aif360/algorithms/preprocessing/lfr_helpers/helpers.py:2: NumbaDeprecationWarning: An import was requested from a module that has moved location.\n",
      "Import of 'jit' requested from: 'numba.decorators', please update to use 'numba.core.decorators' or pin to Numba version 0.48.0. This alias will not be present in Numba version 0.50.0.\n",
      "  from numba.decorators import jit\n"
     ]
    }
   ],
   "source": [
    "import pandas as pd\n",
    "import numpy as np\n",
    "import matplotlib.pyplot as plt\n",
    "# \n",
    "from sklearn import preprocessing\n",
    "from keras.models import Sequential, Model, load_model, model_from_json\n",
    "from keras.layers import Dense\n",
    "from IPython.display import Markdown, display\n",
    "from sklearn.model_selection import train_test_split\n",
    "import tensorflow as tf\n",
    "#\n",
    "import aif360\n",
    "import aix360\n",
    "from aif360.metrics import BinaryLabelDatasetMetric\n",
    "from aif360.datasets import BinaryLabelDataset\n",
    "from aif360.algorithms.preprocessing.reweighing import Reweighing\n",
    "from aix360.algorithms.protodash import ProtodashExplainer\n",
    "from aix360.algorithms.contrastive import CEMExplainer, KerasClassifier\n",
    "#\n",
    "import warnings\n",
    "warnings.filterwarnings(\"ignore\")"
   ]
  },
  {
   "cell_type": "code",
   "execution_count": 2,
   "metadata": {},
   "outputs": [
    {
     "data": {
      "text/plain": [
       "'1.14.0'"
      ]
     },
     "execution_count": 2,
     "metadata": {},
     "output_type": "execute_result"
    }
   ],
   "source": [
    "tf.__version__"
   ]
  },
  {
   "cell_type": "markdown",
   "metadata": {},
   "source": [
    "# File Read"
   ]
  },
  {
   "cell_type": "code",
   "execution_count": 3,
   "metadata": {},
   "outputs": [],
   "source": [
    "data = pd.read_csv('preprocessed_data.csv')"
   ]
  },
  {
   "cell_type": "code",
   "execution_count": 4,
   "metadata": {},
   "outputs": [
    {
     "data": {
      "text/html": [
       "<div>\n",
       "<style scoped>\n",
       "    .dataframe tbody tr th:only-of-type {\n",
       "        vertical-align: middle;\n",
       "    }\n",
       "\n",
       "    .dataframe tbody tr th {\n",
       "        vertical-align: top;\n",
       "    }\n",
       "\n",
       "    .dataframe thead th {\n",
       "        text-align: right;\n",
       "    }\n",
       "</style>\n",
       "<table border=\"1\" class=\"dataframe\">\n",
       "  <thead>\n",
       "    <tr style=\"text-align: right;\">\n",
       "      <th></th>\n",
       "      <th>conforming_loan_limit</th>\n",
       "      <th>preapproval</th>\n",
       "      <th>loan_term</th>\n",
       "      <th>aus_1</th>\n",
       "      <th>applicant_age</th>\n",
       "      <th>applicant_credit_score_type</th>\n",
       "      <th>combined_loan_to_value_ratio</th>\n",
       "      <th>property_value</th>\n",
       "      <th>income</th>\n",
       "      <th>debt_to_income_ratio</th>\n",
       "      <th>loan_amount</th>\n",
       "      <th>applicant_ethnicity_1</th>\n",
       "      <th>applicant_race_1</th>\n",
       "      <th>applicant_sex</th>\n",
       "      <th>action_taken</th>\n",
       "    </tr>\n",
       "  </thead>\n",
       "  <tbody>\n",
       "    <tr>\n",
       "      <th>0</th>\n",
       "      <td>1</td>\n",
       "      <td>0</td>\n",
       "      <td>39</td>\n",
       "      <td>0</td>\n",
       "      <td>0</td>\n",
       "      <td>2</td>\n",
       "      <td>98.25</td>\n",
       "      <td>285000.0</td>\n",
       "      <td>74.0</td>\n",
       "      <td>7</td>\n",
       "      <td>285000.0</td>\n",
       "      <td>1</td>\n",
       "      <td>4</td>\n",
       "      <td>0</td>\n",
       "      <td>0</td>\n",
       "    </tr>\n",
       "    <tr>\n",
       "      <th>1</th>\n",
       "      <td>1</td>\n",
       "      <td>0</td>\n",
       "      <td>39</td>\n",
       "      <td>0</td>\n",
       "      <td>0</td>\n",
       "      <td>0</td>\n",
       "      <td>94.00</td>\n",
       "      <td>245000.0</td>\n",
       "      <td>50.0</td>\n",
       "      <td>19</td>\n",
       "      <td>235000.0</td>\n",
       "      <td>1</td>\n",
       "      <td>1</td>\n",
       "      <td>1</td>\n",
       "      <td>0</td>\n",
       "    </tr>\n",
       "    <tr>\n",
       "      <th>2</th>\n",
       "      <td>1</td>\n",
       "      <td>0</td>\n",
       "      <td>39</td>\n",
       "      <td>1</td>\n",
       "      <td>0</td>\n",
       "      <td>0</td>\n",
       "      <td>111.06</td>\n",
       "      <td>135000.0</td>\n",
       "      <td>35.0</td>\n",
       "      <td>4</td>\n",
       "      <td>155000.0</td>\n",
       "      <td>0</td>\n",
       "      <td>4</td>\n",
       "      <td>1</td>\n",
       "      <td>0</td>\n",
       "    </tr>\n",
       "    <tr>\n",
       "      <th>3</th>\n",
       "      <td>1</td>\n",
       "      <td>0</td>\n",
       "      <td>39</td>\n",
       "      <td>0</td>\n",
       "      <td>0</td>\n",
       "      <td>1</td>\n",
       "      <td>111.64</td>\n",
       "      <td>105000.0</td>\n",
       "      <td>31.0</td>\n",
       "      <td>4</td>\n",
       "      <td>115000.0</td>\n",
       "      <td>2</td>\n",
       "      <td>5</td>\n",
       "      <td>0</td>\n",
       "      <td>0</td>\n",
       "    </tr>\n",
       "    <tr>\n",
       "      <th>4</th>\n",
       "      <td>1</td>\n",
       "      <td>0</td>\n",
       "      <td>39</td>\n",
       "      <td>0</td>\n",
       "      <td>0</td>\n",
       "      <td>0</td>\n",
       "      <td>96.50</td>\n",
       "      <td>155000.0</td>\n",
       "      <td>34.0</td>\n",
       "      <td>19</td>\n",
       "      <td>155000.0</td>\n",
       "      <td>0</td>\n",
       "      <td>4</td>\n",
       "      <td>1</td>\n",
       "      <td>0</td>\n",
       "    </tr>\n",
       "  </tbody>\n",
       "</table>\n",
       "</div>"
      ],
      "text/plain": [
       "   conforming_loan_limit  preapproval  loan_term  aus_1  applicant_age  \\\n",
       "0                      1            0         39      0              0   \n",
       "1                      1            0         39      0              0   \n",
       "2                      1            0         39      1              0   \n",
       "3                      1            0         39      0              0   \n",
       "4                      1            0         39      0              0   \n",
       "\n",
       "   applicant_credit_score_type  combined_loan_to_value_ratio  property_value  \\\n",
       "0                            2                         98.25        285000.0   \n",
       "1                            0                         94.00        245000.0   \n",
       "2                            0                        111.06        135000.0   \n",
       "3                            1                        111.64        105000.0   \n",
       "4                            0                         96.50        155000.0   \n",
       "\n",
       "   income  debt_to_income_ratio  loan_amount  applicant_ethnicity_1  \\\n",
       "0    74.0                     7     285000.0                      1   \n",
       "1    50.0                    19     235000.0                      1   \n",
       "2    35.0                     4     155000.0                      0   \n",
       "3    31.0                     4     115000.0                      2   \n",
       "4    34.0                    19     155000.0                      0   \n",
       "\n",
       "   applicant_race_1  applicant_sex  action_taken  \n",
       "0                 4              0             0  \n",
       "1                 1              1             0  \n",
       "2                 4              1             0  \n",
       "3                 5              0             0  \n",
       "4                 4              1             0  "
      ]
     },
     "execution_count": 4,
     "metadata": {},
     "output_type": "execute_result"
    }
   ],
   "source": [
    "data.head()"
   ]
  },
  {
   "cell_type": "markdown",
   "metadata": {},
   "source": [
    "# AIF360"
   ]
  },
  {
   "cell_type": "code",
   "execution_count": 5,
   "metadata": {},
   "outputs": [],
   "source": [
    "# Sex\n",
    "# 0 - Male \n",
    "# 1 - Female \n",
    "# Action Taken\n",
    "# 0 - Application denied \n",
    "# 1 - Purchased Loan "
   ]
  },
  {
   "cell_type": "code",
   "execution_count": 6,
   "metadata": {},
   "outputs": [],
   "source": [
    "privileged_groups = [{'applicant_sex': 0}]\n",
    "unprivileged_groups = [{'applicant_sex': 1}]\n",
    "favorable_label = 1 \n",
    "unfavorable_label = 0"
   ]
  },
  {
   "cell_type": "code",
   "execution_count": 7,
   "metadata": {},
   "outputs": [
    {
     "name": "stdout",
     "output_type": "stream",
     "text": [
      "<class 'pandas.core.frame.DataFrame'>\n",
      "RangeIndex: 20000 entries, 0 to 19999\n",
      "Data columns (total 15 columns):\n",
      " #   Column                        Non-Null Count  Dtype  \n",
      "---  ------                        --------------  -----  \n",
      " 0   conforming_loan_limit         20000 non-null  int64  \n",
      " 1   preapproval                   20000 non-null  int64  \n",
      " 2   loan_term                     20000 non-null  int64  \n",
      " 3   aus_1                         20000 non-null  int64  \n",
      " 4   applicant_age                 20000 non-null  int64  \n",
      " 5   applicant_credit_score_type   20000 non-null  int64  \n",
      " 6   combined_loan_to_value_ratio  20000 non-null  float64\n",
      " 7   property_value                20000 non-null  float64\n",
      " 8   income                        20000 non-null  float64\n",
      " 9   debt_to_income_ratio          20000 non-null  int64  \n",
      " 10  loan_amount                   20000 non-null  float64\n",
      " 11  applicant_ethnicity_1         20000 non-null  int64  \n",
      " 12  applicant_race_1              20000 non-null  int64  \n",
      " 13  applicant_sex                 20000 non-null  int64  \n",
      " 14  action_taken                  20000 non-null  int64  \n",
      "dtypes: float64(4), int64(11)\n",
      "memory usage: 2.3 MB\n"
     ]
    }
   ],
   "source": [
    "data.info()"
   ]
  },
  {
   "cell_type": "code",
   "execution_count": 8,
   "metadata": {},
   "outputs": [],
   "source": [
    "BM_dataset = BinaryLabelDataset(favorable_label=1,\n",
    "                                unfavorable_label=0,\n",
    "                                df=data,\n",
    "                                label_names=['action_taken'],\n",
    "                                protected_attribute_names=['applicant_sex'],\n",
    "                                unprivileged_protected_attributes=[np.array([1])],\n",
    "                                privileged_protected_attributes=[np.array([0])])"
   ]
  },
  {
   "cell_type": "code",
   "execution_count": 9,
   "metadata": {},
   "outputs": [
    {
     "data": {
      "text/markdown": [
       "#### Training Data Details"
      ],
      "text/plain": [
       "<IPython.core.display.Markdown object>"
      ]
     },
     "metadata": {},
     "output_type": "display_data"
    },
    {
     "name": "stdout",
     "output_type": "stream",
     "text": [
      "shape of the training dataset (20000, 14)\n",
      "Training data favorable label 1.0\n",
      "Training data unfavorable label 0.0\n",
      "Training data protected attribute ['applicant_sex']\n",
      "Training data privileged protected attribute (1:Male and 0:Female) [array([0])]\n",
      "Training data unprivileged protected attribute (1:Male and 0:Female) [array([1])]\n"
     ]
    }
   ],
   "source": [
    "display(Markdown(\"#### Training Data Details\"))\n",
    "print(\"shape of the training dataset\", BM_dataset.features.shape)\n",
    "print(\"Training data favorable label\", BM_dataset.favorable_label)\n",
    "print(\"Training data unfavorable label\", BM_dataset.unfavorable_label)\n",
    "print(\"Training data protected attribute\", BM_dataset.protected_attribute_names)\n",
    "print(\"Training data privileged protected attribute (1:Male and 0:Female)\", \n",
    "      BM_dataset.privileged_protected_attributes)\n",
    "print(\"Training data unprivileged protected attribute (1:Male and 0:Female)\",\n",
    "      BM_dataset.unprivileged_protected_attributes)"
   ]
  },
  {
   "cell_type": "code",
   "execution_count": 10,
   "metadata": {},
   "outputs": [
    {
     "name": "stdout",
     "output_type": "stream",
     "text": [
      "Difference in mean outcomes between unprivileged and privileged groups = -0.045728\n"
     ]
    }
   ],
   "source": [
    "metric_orig_train = BinaryLabelDatasetMetric(BM_dataset, \n",
    "                                             unprivileged_groups=unprivileged_groups,\n",
    "                                             privileged_groups=privileged_groups)\n",
    "print(\"Difference in mean outcomes between unprivileged and privileged groups = %f\" % \n",
    "      metric_orig_train.mean_difference())"
   ]
  },
  {
   "cell_type": "code",
   "execution_count": 11,
   "metadata": {},
   "outputs": [],
   "source": [
    "RW = Reweighing(unprivileged_groups=unprivileged_groups,\n",
    "               privileged_groups=privileged_groups)\n",
    "RW.fit(BM_dataset)\n",
    "train_tf_dataset = RW.transform(BM_dataset)"
   ]
  },
  {
   "cell_type": "code",
   "execution_count": 12,
   "metadata": {},
   "outputs": [
    {
     "name": "stdout",
     "output_type": "stream",
     "text": [
      "Difference in mean outcomes between unprivileged and privileged groups = 0.000000\n"
     ]
    }
   ],
   "source": [
    "metric_orig_train_updated = BinaryLabelDatasetMetric(train_tf_dataset, \n",
    "                                             unprivileged_groups=unprivileged_groups,\n",
    "                                             privileged_groups=privileged_groups)\n",
    "\n",
    "print(\"Difference in mean outcomes between unprivileged and privileged groups = %f\"\n",
    "      % metric_orig_train_updated.mean_difference())"
   ]
  },
  {
   "cell_type": "markdown",
   "metadata": {},
   "source": [
    "# AIX360"
   ]
  },
  {
   "cell_type": "code",
   "execution_count": 13,
   "metadata": {},
   "outputs": [],
   "source": [
    "dfTrain, dfTest, yTrain, yTest = train_test_split(train_tf_dataset.features, train_tf_dataset.labels, random_state=0)"
   ]
  },
  {
   "cell_type": "code",
   "execution_count": 14,
   "metadata": {},
   "outputs": [
    {
     "data": {
      "text/plain": [
       "(15000, 14)"
      ]
     },
     "execution_count": 14,
     "metadata": {},
     "output_type": "execute_result"
    }
   ],
   "source": [
    "dfTrain.shape"
   ]
  },
  {
   "cell_type": "code",
   "execution_count": 15,
   "metadata": {},
   "outputs": [
    {
     "data": {
      "text/plain": [
       "(5000, 14)"
      ]
     },
     "execution_count": 15,
     "metadata": {},
     "output_type": "execute_result"
    }
   ],
   "source": [
    "dfTest.shape"
   ]
  },
  {
   "cell_type": "code",
   "execution_count": 16,
   "metadata": {},
   "outputs": [],
   "source": [
    "# Simple neural network for the classification task\n",
    "def nn_small():\n",
    "    model = Sequential()\n",
    "    model.add(Dense(500, input_dim=14, activation='tanh'))\n",
    "    model.add(Dense(500, activation='relu'))\n",
    "    model.add(Dense(2))    \n",
    "    return model"
   ]
  },
  {
   "cell_type": "code",
   "execution_count": 17,
   "metadata": {},
   "outputs": [
    {
     "name": "stdout",
     "output_type": "stream",
     "text": [
      "WARNING:tensorflow:From <ipython-input-17-e6e34be8b464>:3: softmax_cross_entropy_with_logits (from tensorflow.python.ops.nn_ops) is deprecated and will be removed in a future version.\n",
      "Instructions for updating:\n",
      "\n",
      "Future major versions of TensorFlow will allow gradients to flow\n",
      "into the labels input on backprop by default.\n",
      "\n",
      "See `tf.nn.softmax_cross_entropy_with_logits_v2`.\n",
      "\n",
      "Model: \"sequential_1\"\n",
      "_________________________________________________________________\n",
      "Layer (type)                 Output Shape              Param #   \n",
      "=================================================================\n",
      "dense_1 (Dense)              (None, 500)               7500      \n",
      "_________________________________________________________________\n",
      "dense_2 (Dense)              (None, 500)               250500    \n",
      "_________________________________________________________________\n",
      "dense_3 (Dense)              (None, 2)                 1002      \n",
      "=================================================================\n",
      "Total params: 259,002\n",
      "Trainable params: 259,002\n",
      "Non-trainable params: 0\n",
      "_________________________________________________________________\n"
     ]
    }
   ],
   "source": [
    "# loss function\n",
    "def fn(correct, predicted):\n",
    "    return tf.nn.softmax_cross_entropy_with_logits(labels=correct, logits=predicted)\n",
    "\n",
    "nn = nn_small()\n",
    "nn.compile(loss=fn, optimizer='adam', metrics=['accuracy'])\n",
    "nn.summary()"
   ]
  },
  {
   "cell_type": "code",
   "execution_count": 18,
   "metadata": {},
   "outputs": [
    {
     "name": "stdout",
     "output_type": "stream",
     "text": [
      "WARNING:tensorflow:From /Users/saishruthi.tn@ibm.com/anaconda3/envs/watson_nlp/lib/python3.6/site-packages/keras/backend/tensorflow_backend.py:422: The name tf.global_variables is deprecated. Please use tf.compat.v1.global_variables instead.\n",
      "\n",
      "Epoch 1/10\n",
      "15000/15000 [==============================] - 2s 109us/step - loss: 0.9974 - accuracy: 0.4736\n",
      "Epoch 2/10\n",
      "15000/15000 [==============================] - 1s 98us/step - loss: 3.5889 - accuracy: 0.4970\n",
      "Epoch 3/10\n",
      "15000/15000 [==============================] - 1s 94us/step - loss: 6.9151 - accuracy: 0.5040\n",
      "Epoch 4/10\n",
      "15000/15000 [==============================] - 1s 94us/step - loss: 12.8843 - accuracy: 0.5011\n",
      "Epoch 5/10\n",
      "15000/15000 [==============================] - 1s 95us/step - loss: 13.7555 - accuracy: 0.4986\n",
      "Epoch 6/10\n",
      "15000/15000 [==============================] - 2s 103us/step - loss: 22.9052 - accuracy: 0.5005\n",
      "Epoch 7/10\n",
      "15000/15000 [==============================] - 1s 90us/step - loss: 24.8482 - accuracy: 0.4994\n",
      "Epoch 8/10\n",
      "15000/15000 [==============================] - 1s 89us/step - loss: 25.7116 - accuracy: 0.5015\n",
      "Epoch 9/10\n",
      "15000/15000 [==============================] - 1s 90us/step - loss: 22.3936 - accuracy: 0.4999\n",
      "Epoch 10/10\n",
      "15000/15000 [==============================] - 1s 89us/step - loss: 23.5708 - accuracy: 0.5017\n"
     ]
    }
   ],
   "source": [
    "# To train uncomment this cell\n",
    "\n",
    "# nn.fit(dfTrain, yTrain, batch_size=32, epochs=10, verbose=1, shuffle=False)\n",
    "\n",
    "# nn.save_weights(\"trained_model.h5\")     "
   ]
  },
  {
   "cell_type": "raw",
   "metadata": {},
   "source": [
    "### Load trained model weights "
   ]
  },
  {
   "cell_type": "code",
   "execution_count": 19,
   "metadata": {},
   "outputs": [],
   "source": [
    "nn.load_weights(\"trained_model.h5\")"
   ]
  },
  {
   "cell_type": "markdown",
   "metadata": {},
   "source": [
    "### Display similar applicant user profiles and the extent to which they are similar to the chosen applicant as indicated by the last row in the table below labelled as \"Weight\"."
   ]
  },
  {
   "cell_type": "markdown",
   "metadata": {},
   "source": [
    "##### Explainer used:\n",
    "\n",
    "ProtodashExplainer provides exemplar-based explanations for summarizing datasets as well as explaining predictions made by an AI model. It employs a fast gradient based algorithm to find prototypes along with their (non-negative) importance weights. The algorithm minimizes the maximum mean discrepancy metric and has constant factor approximation guarantees for this weakly submodular function.\n",
    "\n",
    "\n",
    "More Details: \n",
    "https://aix360.readthedocs.io/en/latest/die.html#protodash-explainer"
   ]
  },
  {
   "cell_type": "code",
   "execution_count": 20,
   "metadata": {},
   "outputs": [],
   "source": [
    "p_train = nn.predict_classes(dfTrain) # Use trained neural network to predict train points\n",
    "p_train = p_train.reshape((p_train.shape[0],1))\n",
    "\n",
    "z_train = np.hstack((dfTrain, p_train)) # Store (normalized) instances that were predicted as Accepted\n",
    "z_train_good = z_train[z_train[:,-1]==1, :]"
   ]
  },
  {
   "cell_type": "code",
   "execution_count": 21,
   "metadata": {},
   "outputs": [
    {
     "name": "stdout",
     "output_type": "stream",
     "text": [
      "Chosen Sample: 86\n",
      "Prediction made by the model: Accepted\n",
      "Prediction probabilities: [[-871726.44 -871696.44]]\n",
      "\n"
     ]
    },
    {
     "data": {
      "text/html": [
       "<div>\n",
       "<style scoped>\n",
       "    .dataframe tbody tr th:only-of-type {\n",
       "        vertical-align: middle;\n",
       "    }\n",
       "\n",
       "    .dataframe tbody tr th {\n",
       "        vertical-align: top;\n",
       "    }\n",
       "\n",
       "    .dataframe thead th {\n",
       "        text-align: right;\n",
       "    }\n",
       "</style>\n",
       "<table border=\"1\" class=\"dataframe\">\n",
       "  <thead>\n",
       "    <tr style=\"text-align: right;\">\n",
       "      <th></th>\n",
       "      <th>0</th>\n",
       "    </tr>\n",
       "  </thead>\n",
       "  <tbody>\n",
       "    <tr>\n",
       "      <th>conforming_loan_limit</th>\n",
       "      <td>3</td>\n",
       "    </tr>\n",
       "    <tr>\n",
       "      <th>preapproval</th>\n",
       "      <td>0</td>\n",
       "    </tr>\n",
       "    <tr>\n",
       "      <th>loan_term</th>\n",
       "      <td>2</td>\n",
       "    </tr>\n",
       "    <tr>\n",
       "      <th>aus_1</th>\n",
       "      <td>5</td>\n",
       "    </tr>\n",
       "    <tr>\n",
       "      <th>applicant_age</th>\n",
       "      <td>0</td>\n",
       "    </tr>\n",
       "    <tr>\n",
       "      <th>applicant_credit_score_type</th>\n",
       "      <td>6</td>\n",
       "    </tr>\n",
       "    <tr>\n",
       "      <th>combined_loan_to_value_ratio</th>\n",
       "      <td>0</td>\n",
       "    </tr>\n",
       "    <tr>\n",
       "      <th>property_value</th>\n",
       "      <td>75000</td>\n",
       "    </tr>\n",
       "    <tr>\n",
       "      <th>income</th>\n",
       "      <td>180000</td>\n",
       "    </tr>\n",
       "    <tr>\n",
       "      <th>debt_to_income_ratio</th>\n",
       "      <td>0</td>\n",
       "    </tr>\n",
       "    <tr>\n",
       "      <th>loan_amount</th>\n",
       "      <td>855000</td>\n",
       "    </tr>\n",
       "    <tr>\n",
       "      <th>applicant_ethnicity_1</th>\n",
       "      <td>0</td>\n",
       "    </tr>\n",
       "    <tr>\n",
       "      <th>applicant_race_1</th>\n",
       "      <td>6</td>\n",
       "    </tr>\n",
       "    <tr>\n",
       "      <th>applicant_sex</th>\n",
       "      <td>0</td>\n",
       "    </tr>\n",
       "    <tr>\n",
       "      <th>action_taken</th>\n",
       "      <td>Accepted</td>\n",
       "    </tr>\n",
       "  </tbody>\n",
       "</table>\n",
       "</div>"
      ],
      "text/plain": [
       "                                     0\n",
       "conforming_loan_limit                3\n",
       "preapproval                          0\n",
       "loan_term                            2\n",
       "aus_1                                5\n",
       "applicant_age                        0\n",
       "applicant_credit_score_type          6\n",
       "combined_loan_to_value_ratio         0\n",
       "property_value                   75000\n",
       "income                          180000\n",
       "debt_to_income_ratio                 0\n",
       "loan_amount                     855000\n",
       "applicant_ethnicity_1                0\n",
       "applicant_race_1                     6\n",
       "applicant_sex                        0\n",
       "action_taken                  Accepted"
      ]
     },
     "execution_count": 21,
     "metadata": {},
     "output_type": "execute_result"
    }
   ],
   "source": [
    "idx = 86\n",
    "\n",
    "class_names = ['Denied', 'Accepted']\n",
    "\n",
    "X = dfTest[idx].reshape((1,) + dfTest[idx].shape)\n",
    "\n",
    "print(\"Chosen Sample:\", idx)\n",
    "print(\"Prediction made by the model:\", class_names[np.argmax(nn.predict_proba(X))])\n",
    "print(\"Prediction probabilities:\", nn.predict_proba(X))\n",
    "print(\"\")\n",
    "\n",
    "# attach the prediction made by the model to X\n",
    "X = np.hstack((X, nn.predict_classes(X).reshape((1,1))))\n",
    "\n",
    "Xun = dfTest[idx].reshape((1,) + dfTest[idx].shape) \n",
    "dfx = pd.DataFrame.from_records(Xun.astype('double')) # Create dataframe with original feature values\n",
    "dfx[14] = class_names[int(X[0, -1])]\n",
    "dfx.columns = data.columns\n",
    "dfx.transpose()"
   ]
  },
  {
   "cell_type": "code",
   "execution_count": 22,
   "metadata": {},
   "outputs": [
    {
     "name": "stdout",
     "output_type": "stream",
     "text": [
      "     pcost       dcost       gap    pres   dres\n",
      " 0:  0.0000e+00 -2.0000e+04  4e+00  1e+00  1e+00\n",
      " 1: -3.7958e+11 -2.3789e+12  2e+12  5e-13  1e-16\n",
      " 2: -3.7958e+11 -3.9957e+11  2e+10  5e-15  3e-17\n",
      " 3: -3.7958e+11 -3.7978e+11  2e+08  3e-16  9e-17\n",
      " 4: -3.7958e+11 -3.7958e+11  2e+06  3e-16  7e-17\n",
      " 5: -3.7958e+11 -3.7958e+11  2e+04  1e-16  1e-16\n",
      "Optimal solution found.\n"
     ]
    }
   ],
   "source": [
    "explainer = ProtodashExplainer()\n",
    "(W, S, setValues) = explainer.explain(X, z_train_good, m=2) # Return weights W, Prototypes S and objective function values"
   ]
  },
  {
   "cell_type": "code",
   "execution_count": 23,
   "metadata": {},
   "outputs": [
    {
     "data": {
      "text/html": [
       "<div>\n",
       "<style scoped>\n",
       "    .dataframe tbody tr th:only-of-type {\n",
       "        vertical-align: middle;\n",
       "    }\n",
       "\n",
       "    .dataframe tbody tr th {\n",
       "        vertical-align: top;\n",
       "    }\n",
       "\n",
       "    .dataframe thead th {\n",
       "        text-align: right;\n",
       "    }\n",
       "</style>\n",
       "<table border=\"1\" class=\"dataframe\">\n",
       "  <thead>\n",
       "    <tr style=\"text-align: right;\">\n",
       "      <th></th>\n",
       "      <th>0</th>\n",
       "      <th>1</th>\n",
       "    </tr>\n",
       "  </thead>\n",
       "  <tbody>\n",
       "    <tr>\n",
       "      <th>conforming_loan_limit</th>\n",
       "      <td>2</td>\n",
       "      <td>1</td>\n",
       "    </tr>\n",
       "    <tr>\n",
       "      <th>preapproval</th>\n",
       "      <td>0</td>\n",
       "      <td>0</td>\n",
       "    </tr>\n",
       "    <tr>\n",
       "      <th>loan_term</th>\n",
       "      <td>2</td>\n",
       "      <td>2</td>\n",
       "    </tr>\n",
       "    <tr>\n",
       "      <th>aus_1</th>\n",
       "      <td>5</td>\n",
       "      <td>5</td>\n",
       "    </tr>\n",
       "    <tr>\n",
       "      <th>applicant_age</th>\n",
       "      <td>2</td>\n",
       "      <td>5</td>\n",
       "    </tr>\n",
       "    <tr>\n",
       "      <th>applicant_credit_score_type</th>\n",
       "      <td>6</td>\n",
       "      <td>6</td>\n",
       "    </tr>\n",
       "    <tr>\n",
       "      <th>combined_loan_to_value_ratio</th>\n",
       "      <td>0</td>\n",
       "      <td>0</td>\n",
       "    </tr>\n",
       "    <tr>\n",
       "      <th>property_value</th>\n",
       "      <td>105000</td>\n",
       "      <td>605000</td>\n",
       "    </tr>\n",
       "    <tr>\n",
       "      <th>income</th>\n",
       "      <td>93000</td>\n",
       "      <td>325000</td>\n",
       "    </tr>\n",
       "    <tr>\n",
       "      <th>debt_to_income_ratio</th>\n",
       "      <td>0</td>\n",
       "      <td>0</td>\n",
       "    </tr>\n",
       "    <tr>\n",
       "      <th>loan_amount</th>\n",
       "      <td>1.155e+06</td>\n",
       "      <td>155000</td>\n",
       "    </tr>\n",
       "    <tr>\n",
       "      <th>applicant_ethnicity_1</th>\n",
       "      <td>0</td>\n",
       "      <td>0</td>\n",
       "    </tr>\n",
       "    <tr>\n",
       "      <th>applicant_race_1</th>\n",
       "      <td>6</td>\n",
       "      <td>6</td>\n",
       "    </tr>\n",
       "    <tr>\n",
       "      <th>applicant_sex</th>\n",
       "      <td>0</td>\n",
       "      <td>0</td>\n",
       "    </tr>\n",
       "    <tr>\n",
       "      <th>action_taken</th>\n",
       "      <td>Accepted</td>\n",
       "      <td>Accepted</td>\n",
       "    </tr>\n",
       "    <tr>\n",
       "      <th>Weight</th>\n",
       "      <td>0.9125</td>\n",
       "      <td>0.0875</td>\n",
       "    </tr>\n",
       "  </tbody>\n",
       "</table>\n",
       "</div>"
      ],
      "text/plain": [
       "                                      0         1\n",
       "conforming_loan_limit                 2         1\n",
       "preapproval                           0         0\n",
       "loan_term                             2         2\n",
       "aus_1                                 5         5\n",
       "applicant_age                         2         5\n",
       "applicant_credit_score_type           6         6\n",
       "combined_loan_to_value_ratio          0         0\n",
       "property_value                   105000    605000\n",
       "income                            93000    325000\n",
       "debt_to_income_ratio                  0         0\n",
       "loan_amount                   1.155e+06    155000\n",
       "applicant_ethnicity_1                 0         0\n",
       "applicant_race_1                      6         6\n",
       "applicant_sex                         0         0\n",
       "action_taken                   Accepted  Accepted\n",
       "Weight                           0.9125    0.0875"
      ]
     },
     "execution_count": 23,
     "metadata": {},
     "output_type": "execute_result"
    }
   ],
   "source": [
    "dfs = pd.DataFrame.from_records(z_train_good[S, 0:-1].astype('double'))\n",
    "RP=[]\n",
    "for i in range(S.shape[0]):\n",
    "    RP.append(class_names[int(z_train_good[S[i], -1])]) # Append class names\n",
    "dfs[14] = RP\n",
    "dfs.columns = data.columns  \n",
    "dfs[\"Weight\"] = np.around(W, 2)/np.sum(np.around(W, 2)) # Calculate normalized importance weights\n",
    "dfs.transpose()"
   ]
  },
  {
   "cell_type": "markdown",
   "metadata": {},
   "source": [
    "# Contrastive explanations\n",
    "\n",
    "Example: when people ask for an explanation of an event -- the fact --- they (sometimes implicitly) are asking for an explanation relative to some contrast case; that is, \"Why P rather than Q?\"."
   ]
  },
  {
   "cell_type": "markdown",
   "metadata": {},
   "source": [
    "We now demonstrate how to compute contrastive explanations using AIX360 and how such explanations can help applicant understand the decisions made by AI models that approve or reject their applications.\n",
    "\n",
    "In this context, contrastive explanations provide information to applicants about what minimal changes to their profile would have changed the decision of the AI model from reject to accept or vice-versa (pertinent negatives).\n",
    "\n",
    "Terms:\n",
    "\n",
    "##### 1. Pertinent Negatives (PN) \n",
    "    \n",
    "   PNs identify a minimal set of features which if altered would change the classification of the original input. \n",
    "   \n",
    "   \n",
    "##### 2. Pertinent Positives (PP) : \n",
    "\n",
    "  PPs on the other hand identify a minimal set of features and their values that are sufficient to yield the original   input's classification. \n",
    "\n",
    "  For example, for an applicant whose HELOC application was approved, the explanation may say that even if the         number of satisfactory trades was reduced to a lower number, the loan would have still gotten through."
   ]
  },
  {
   "cell_type": "markdown",
   "metadata": {},
   "source": [
    "## Let's explore PP"
   ]
  },
  {
   "cell_type": "code",
   "execution_count": 24,
   "metadata": {},
   "outputs": [
    {
     "name": "stdout",
     "output_type": "stream",
     "text": [
      "Computing PP for Sample: 10\n",
      "Prediction made by the model: Accepted\n",
      "Prediction probabilities: [[-2145550.5 -2145464.2]]\n",
      "\n",
      "WARNING:tensorflow:From /Users/saishruthi.tn@ibm.com/anaconda3/envs/watson_nlp/lib/python3.6/site-packages/aix360/algorithms/contrastive/CEM_aen.py:54: The name tf.placeholder is deprecated. Please use tf.compat.v1.placeholder instead.\n",
      "\n",
      "WARNING:tensorflow:From /Users/saishruthi.tn@ibm.com/anaconda3/envs/watson_nlp/lib/python3.6/site-packages/aix360/algorithms/contrastive/CEM_aen.py:86: The name tf.assign is deprecated. Please use tf.compat.v1.assign instead.\n",
      "\n",
      "WARNING:tensorflow:From /Users/saishruthi.tn@ibm.com/anaconda3/envs/watson_nlp/lib/python3.6/site-packages/aix360/algorithms/contrastive/CEM_aen.py:150: The name tf.train.polynomial_decay is deprecated. Please use tf.compat.v1.train.polynomial_decay instead.\n",
      "\n",
      "WARNING:tensorflow:From /Users/saishruthi.tn@ibm.com/anaconda3/envs/watson_nlp/lib/python3.6/site-packages/tensorflow/python/keras/optimizer_v2/learning_rate_schedule.py:409: div (from tensorflow.python.ops.math_ops) is deprecated and will be removed in a future version.\n",
      "Instructions for updating:\n",
      "Deprecated in favor of operator or tf.math.divide.\n",
      "WARNING:tensorflow:From /Users/saishruthi.tn@ibm.com/anaconda3/envs/watson_nlp/lib/python3.6/site-packages/aix360/algorithms/contrastive/CEM_aen.py:153: The name tf.train.GradientDescentOptimizer is deprecated. Please use tf.compat.v1.train.GradientDescentOptimizer instead.\n",
      "\n",
      "WARNING:tensorflow:From /Users/saishruthi.tn@ibm.com/anaconda3/envs/watson_nlp/lib/python3.6/site-packages/tensorflow/python/ops/math_grad.py:1250: add_dispatch_support.<locals>.wrapper (from tensorflow.python.ops.array_ops) is deprecated and will be removed in a future version.\n",
      "Instructions for updating:\n",
      "Use tf.where in 2.0, which has the same broadcast rule as np.where\n",
      "WARNING:tensorflow:From /Users/saishruthi.tn@ibm.com/anaconda3/envs/watson_nlp/lib/python3.6/site-packages/aix360/algorithms/contrastive/CEM_aen.py:167: The name tf.variables_initializer is deprecated. Please use tf.compat.v1.variables_initializer instead.\n",
      "\n",
      "iter:0 const:[10.]\n",
      "Loss_Overall:1564269871104.0000, Loss_Attack:21354642.0000\n",
      "Loss_L2Dist:1564248375296.0000, Loss_L1Dist:1540139.6250, AE_loss:0.0\n",
      "target_lab_score:-2145464.2500, max_nontarget_lab_score:-10000.0000\n",
      "\n",
      "iter:500 const:[10.]\n",
      "Loss_Overall:1435726774272.0000, Loss_Attack:21354642.0000\n",
      "Loss_L2Dist:1435705278464.0000, Loss_L1Dist:1475515.6250, AE_loss:0.0\n",
      "target_lab_score:-2145464.2500, max_nontarget_lab_score:-10000.0000\n",
      "\n",
      "iter:0 const:[5.]\n",
      "Loss_Overall:1564259123200.0000, Loss_Attack:10677321.0000\n",
      "Loss_L2Dist:1564248375296.0000, Loss_L1Dist:1540139.6250, AE_loss:0.0\n",
      "target_lab_score:-2145464.2500, max_nontarget_lab_score:-10000.0000\n",
      "\n",
      "iter:500 const:[5.]\n",
      "Loss_Overall:822701129728.0000, Loss_Attack:10677321.0000\n",
      "Loss_L2Dist:822690316288.0000, Loss_L1Dist:1116938.0000, AE_loss:0.0\n",
      "target_lab_score:-2145464.2500, max_nontarget_lab_score:-10000.0000\n",
      "\n",
      "iter:0 const:[2.5]\n",
      "Loss_Overall:1564253880320.0000, Loss_Attack:5338660.5000\n",
      "Loss_L2Dist:1564248375296.0000, Loss_L1Dist:1540139.6250, AE_loss:0.0\n",
      "target_lab_score:-2145464.2500, max_nontarget_lab_score:-10000.0000\n",
      "\n",
      "iter:500 const:[2.5]\n",
      "Loss_Overall:822695755776.0000, Loss_Attack:5338660.5000\n",
      "Loss_L2Dist:822690316288.0000, Loss_L1Dist:1116938.0000, AE_loss:0.0\n",
      "target_lab_score:-2145464.2500, max_nontarget_lab_score:-10000.0000\n",
      "\n",
      "iter:0 const:[1.25]\n",
      "Loss_Overall:1564251127808.0000, Loss_Attack:2669330.2500\n",
      "Loss_L2Dist:1564248375296.0000, Loss_L1Dist:1540139.6250, AE_loss:0.0\n",
      "target_lab_score:-2145464.2500, max_nontarget_lab_score:-10000.0000\n",
      "\n",
      "iter:500 const:[1.25]\n",
      "Loss_Overall:822693134336.0000, Loss_Attack:2669330.2500\n",
      "Loss_L2Dist:822690316288.0000, Loss_L1Dist:1116938.0000, AE_loss:0.0\n",
      "target_lab_score:-2145464.2500, max_nontarget_lab_score:-10000.0000\n",
      "\n",
      "iter:0 const:[0.625]\n",
      "Loss_Overall:1564249817088.0000, Loss_Attack:1334665.1250\n",
      "Loss_L2Dist:1564248375296.0000, Loss_L1Dist:1540139.6250, AE_loss:0.0\n",
      "target_lab_score:-2145464.2500, max_nontarget_lab_score:-10000.0000\n",
      "\n",
      "iter:500 const:[0.625]\n",
      "Loss_Overall:822691758080.0000, Loss_Attack:1334665.1250\n",
      "Loss_L2Dist:822690316288.0000, Loss_L1Dist:1116938.0000, AE_loss:0.0\n",
      "target_lab_score:-2145464.2500, max_nontarget_lab_score:-10000.0000\n",
      "\n",
      "iter:0 const:[0.3125]\n",
      "Loss_Overall:1564249161728.0000, Loss_Attack:667332.5625\n",
      "Loss_L2Dist:1564248375296.0000, Loss_L1Dist:1540139.6250, AE_loss:0.0\n",
      "target_lab_score:-2145464.2500, max_nontarget_lab_score:-10000.0000\n",
      "\n",
      "iter:500 const:[0.3125]\n",
      "Loss_Overall:822691102720.0000, Loss_Attack:667332.5625\n",
      "Loss_L2Dist:822690316288.0000, Loss_L1Dist:1116938.0000, AE_loss:0.0\n",
      "target_lab_score:-2145464.2500, max_nontarget_lab_score:-10000.0000\n",
      "\n",
      "iter:0 const:[0.15625]\n",
      "Loss_Overall:1564248899584.0000, Loss_Attack:333666.2812\n",
      "Loss_L2Dist:1564248375296.0000, Loss_L1Dist:1540139.6250, AE_loss:0.0\n",
      "target_lab_score:-2145464.2500, max_nontarget_lab_score:-10000.0000\n",
      "\n",
      "iter:500 const:[0.15625]\n",
      "Loss_Overall:822690775040.0000, Loss_Attack:333666.2812\n",
      "Loss_L2Dist:822690316288.0000, Loss_L1Dist:1116938.0000, AE_loss:0.0\n",
      "target_lab_score:-2145464.2500, max_nontarget_lab_score:-10000.0000\n",
      "\n",
      "iter:0 const:[0.078125]\n",
      "Loss_Overall:1564248637440.0000, Loss_Attack:166833.1406\n",
      "Loss_L2Dist:1564248375296.0000, Loss_L1Dist:1540139.6250, AE_loss:0.0\n",
      "target_lab_score:-2145464.2500, max_nontarget_lab_score:-10000.0000\n",
      "\n",
      "iter:500 const:[0.078125]\n",
      "Loss_Overall:822690643968.0000, Loss_Attack:166833.1406\n",
      "Loss_L2Dist:822690316288.0000, Loss_L1Dist:1116938.0000, AE_loss:0.0\n",
      "target_lab_score:-2145464.2500, max_nontarget_lab_score:-10000.0000\n",
      "\n",
      "iter:0 const:[0.0390625]\n",
      "Loss_Overall:1564248637440.0000, Loss_Attack:83416.5703\n",
      "Loss_L2Dist:1564248375296.0000, Loss_L1Dist:1540139.6250, AE_loss:0.0\n",
      "target_lab_score:-2145464.2500, max_nontarget_lab_score:-10000.0000\n",
      "\n",
      "iter:500 const:[0.0390625]\n",
      "Loss_Overall:822690512896.0000, Loss_Attack:83416.5703\n",
      "Loss_L2Dist:822690316288.0000, Loss_L1Dist:1116938.0000, AE_loss:0.0\n",
      "target_lab_score:-2145464.2500, max_nontarget_lab_score:-10000.0000\n",
      "\n"
     ]
    }
   ],
   "source": [
    "# Some interesting user samples to try: 8 9 11\n",
    "idx = 10\n",
    "\n",
    "X = dfTest[idx].reshape((1,) + dfTest[idx].shape)\n",
    "print(\"Computing PP for Sample:\", idx)\n",
    "print(\"Prediction made by the model:\", class_names[np.argmax(nn.predict_proba(X))])\n",
    "print(\"Prediction probabilities:\", nn.predict_proba(X))\n",
    "print(\"\")\n",
    "\n",
    "\n",
    "mymodel = KerasClassifier(nn)\n",
    "explainer = CEMExplainer(mymodel)\n",
    "\n",
    "arg_mode = 'PP' # Find pertinent positives\n",
    "arg_max_iter = 1000 # Maximum number of iterations to search for the optimal PN for given parameter settings\n",
    "arg_init_const = 10.0 # Initial coefficient value for main loss term that encourages class change\n",
    "arg_b = 9 # No. of updates to the coefficient of the main loss term\n",
    "arg_kappa = 0.1 # Minimum confidence gap between the PNs (changed) class probability and original class' probability\n",
    "arg_beta = 1e-1 # Controls sparsity of the solution (L1 loss)\n",
    "arg_gamma = 100 # Controls how much to adhere to a (optionally trained) auto-encoder\n",
    "my_AE_model = None # Pointer to an auto-encoder\n",
    "\n",
    "(adv_pp, delta_pp, info_pp) = explainer.explain_instance(X, arg_mode, my_AE_model, arg_kappa, arg_b,\n",
    "                                                         arg_max_iter, arg_init_const, arg_beta, arg_gamma)"
   ]
  },
  {
   "cell_type": "code",
   "execution_count": 27,
   "metadata": {},
   "outputs": [
    {
     "name": "stdout",
     "output_type": "stream",
     "text": [
      "PP for Sample: 10\n",
      "Prediction(Xpp) : Accepted\n",
      "Prediction probabilities for Xpp: [[-2159040.  -2158953.8]]\n",
      "\n"
     ]
    },
    {
     "data": {
      "text/html": [
       "<style  type=\"text/css\" >\n",
       "    #T_8caf6574_8f46_11ea_8596_88e9fe79ef52row0_col0 {\n",
       "            background-color:  yellow;\n",
       "        }    #T_8caf6574_8f46_11ea_8596_88e9fe79ef52row0_col1 {\n",
       "            background-color:  yellow;\n",
       "        }    #T_8caf6574_8f46_11ea_8596_88e9fe79ef52row1_col0 {\n",
       "            background-color:  yellow;\n",
       "        }    #T_8caf6574_8f46_11ea_8596_88e9fe79ef52row1_col1 {\n",
       "            background-color:  yellow;\n",
       "        }    #T_8caf6574_8f46_11ea_8596_88e9fe79ef52row2_col0 {\n",
       "            background-color:  yellow;\n",
       "        }    #T_8caf6574_8f46_11ea_8596_88e9fe79ef52row2_col1 {\n",
       "            background-color:  yellow;\n",
       "        }    #T_8caf6574_8f46_11ea_8596_88e9fe79ef52row3_col0 {\n",
       "            background-color:  white;\n",
       "        }    #T_8caf6574_8f46_11ea_8596_88e9fe79ef52row3_col1 {\n",
       "            background-color:  white;\n",
       "        }    #T_8caf6574_8f46_11ea_8596_88e9fe79ef52row4_col0 {\n",
       "            background-color:  yellow;\n",
       "        }    #T_8caf6574_8f46_11ea_8596_88e9fe79ef52row4_col1 {\n",
       "            background-color:  yellow;\n",
       "        }    #T_8caf6574_8f46_11ea_8596_88e9fe79ef52row5_col0 {\n",
       "            background-color:  yellow;\n",
       "        }    #T_8caf6574_8f46_11ea_8596_88e9fe79ef52row5_col1 {\n",
       "            background-color:  yellow;\n",
       "        }    #T_8caf6574_8f46_11ea_8596_88e9fe79ef52row6_col0 {\n",
       "            background-color:  yellow;\n",
       "        }    #T_8caf6574_8f46_11ea_8596_88e9fe79ef52row6_col1 {\n",
       "            background-color:  yellow;\n",
       "        }    #T_8caf6574_8f46_11ea_8596_88e9fe79ef52row7_col0 {\n",
       "            background-color:  yellow;\n",
       "        }    #T_8caf6574_8f46_11ea_8596_88e9fe79ef52row7_col1 {\n",
       "            background-color:  yellow;\n",
       "        }    #T_8caf6574_8f46_11ea_8596_88e9fe79ef52row8_col0 {\n",
       "            background-color:  yellow;\n",
       "        }    #T_8caf6574_8f46_11ea_8596_88e9fe79ef52row8_col1 {\n",
       "            background-color:  yellow;\n",
       "        }    #T_8caf6574_8f46_11ea_8596_88e9fe79ef52row9_col0 {\n",
       "            background-color:  yellow;\n",
       "        }    #T_8caf6574_8f46_11ea_8596_88e9fe79ef52row9_col1 {\n",
       "            background-color:  yellow;\n",
       "        }    #T_8caf6574_8f46_11ea_8596_88e9fe79ef52row10_col0 {\n",
       "            background-color:  yellow;\n",
       "        }    #T_8caf6574_8f46_11ea_8596_88e9fe79ef52row10_col1 {\n",
       "            background-color:  yellow;\n",
       "        }    #T_8caf6574_8f46_11ea_8596_88e9fe79ef52row11_col0 {\n",
       "            background-color:  yellow;\n",
       "        }    #T_8caf6574_8f46_11ea_8596_88e9fe79ef52row11_col1 {\n",
       "            background-color:  yellow;\n",
       "        }    #T_8caf6574_8f46_11ea_8596_88e9fe79ef52row12_col0 {\n",
       "            background-color:  yellow;\n",
       "        }    #T_8caf6574_8f46_11ea_8596_88e9fe79ef52row12_col1 {\n",
       "            background-color:  yellow;\n",
       "        }    #T_8caf6574_8f46_11ea_8596_88e9fe79ef52row13_col0 {\n",
       "            background-color:  white;\n",
       "        }    #T_8caf6574_8f46_11ea_8596_88e9fe79ef52row13_col1 {\n",
       "            background-color:  white;\n",
       "        }    #T_8caf6574_8f46_11ea_8596_88e9fe79ef52row14_col0 {\n",
       "            background-color:  white;\n",
       "        }    #T_8caf6574_8f46_11ea_8596_88e9fe79ef52row14_col1 {\n",
       "            background-color:  white;\n",
       "        }</style><table id=\"T_8caf6574_8f46_11ea_8596_88e9fe79ef52\" ><thead>    <tr>        <th class=\"blank level0\" ></th>        <th class=\"col_heading level0 col0\" >X</th>        <th class=\"col_heading level0 col1\" >X_PP</th>    </tr></thead><tbody>\n",
       "                <tr>\n",
       "                        <th id=\"T_8caf6574_8f46_11ea_8596_88e9fe79ef52level0_row0\" class=\"row_heading level0 row0\" >conforming_loan_limit</th>\n",
       "                        <td id=\"T_8caf6574_8f46_11ea_8596_88e9fe79ef52row0_col0\" class=\"data row0 col0\" >1.000000</td>\n",
       "                        <td id=\"T_8caf6574_8f46_11ea_8596_88e9fe79ef52row0_col1\" class=\"data row0 col1\" >0.500000</td>\n",
       "            </tr>\n",
       "            <tr>\n",
       "                        <th id=\"T_8caf6574_8f46_11ea_8596_88e9fe79ef52level0_row1\" class=\"row_heading level0 row1\" >preapproval</th>\n",
       "                        <td id=\"T_8caf6574_8f46_11ea_8596_88e9fe79ef52row1_col0\" class=\"data row1 col0\" >0.000000</td>\n",
       "                        <td id=\"T_8caf6574_8f46_11ea_8596_88e9fe79ef52row1_col1\" class=\"data row1 col1\" >0.250000</td>\n",
       "            </tr>\n",
       "            <tr>\n",
       "                        <th id=\"T_8caf6574_8f46_11ea_8596_88e9fe79ef52level0_row2\" class=\"row_heading level0 row2\" >loan_term</th>\n",
       "                        <td id=\"T_8caf6574_8f46_11ea_8596_88e9fe79ef52row2_col0\" class=\"data row2 col0\" >40.000000</td>\n",
       "                        <td id=\"T_8caf6574_8f46_11ea_8596_88e9fe79ef52row2_col1\" class=\"data row2 col1\" >39.500000</td>\n",
       "            </tr>\n",
       "            <tr>\n",
       "                        <th id=\"T_8caf6574_8f46_11ea_8596_88e9fe79ef52level0_row3\" class=\"row_heading level0 row3\" >aus_1</th>\n",
       "                        <td id=\"T_8caf6574_8f46_11ea_8596_88e9fe79ef52row3_col0\" class=\"data row3 col0\" >0.000000</td>\n",
       "                        <td id=\"T_8caf6574_8f46_11ea_8596_88e9fe79ef52row3_col1\" class=\"data row3 col1\" >0.000000</td>\n",
       "            </tr>\n",
       "            <tr>\n",
       "                        <th id=\"T_8caf6574_8f46_11ea_8596_88e9fe79ef52level0_row4\" class=\"row_heading level0 row4\" >applicant_age</th>\n",
       "                        <td id=\"T_8caf6574_8f46_11ea_8596_88e9fe79ef52row4_col0\" class=\"data row4 col0\" >7.000000</td>\n",
       "                        <td id=\"T_8caf6574_8f46_11ea_8596_88e9fe79ef52row4_col1\" class=\"data row4 col1\" >6.500000</td>\n",
       "            </tr>\n",
       "            <tr>\n",
       "                        <th id=\"T_8caf6574_8f46_11ea_8596_88e9fe79ef52level0_row5\" class=\"row_heading level0 row5\" >applicant_credit_score_type</th>\n",
       "                        <td id=\"T_8caf6574_8f46_11ea_8596_88e9fe79ef52row5_col0\" class=\"data row5 col0\" >1.000000</td>\n",
       "                        <td id=\"T_8caf6574_8f46_11ea_8596_88e9fe79ef52row5_col1\" class=\"data row5 col1\" >0.500000</td>\n",
       "            </tr>\n",
       "            <tr>\n",
       "                        <th id=\"T_8caf6574_8f46_11ea_8596_88e9fe79ef52level0_row6\" class=\"row_heading level0 row6\" >combined_loan_to_value_ratio</th>\n",
       "                        <td id=\"T_8caf6574_8f46_11ea_8596_88e9fe79ef52row6_col0\" class=\"data row6 col0\" >28.080000</td>\n",
       "                        <td id=\"T_8caf6574_8f46_11ea_8596_88e9fe79ef52row6_col1\" class=\"data row6 col1\" >27.580000</td>\n",
       "            </tr>\n",
       "            <tr>\n",
       "                        <th id=\"T_8caf6574_8f46_11ea_8596_88e9fe79ef52level0_row7\" class=\"row_heading level0 row7\" >property_value</th>\n",
       "                        <td id=\"T_8caf6574_8f46_11ea_8596_88e9fe79ef52row7_col0\" class=\"data row7 col0\" >1205000.000000</td>\n",
       "                        <td id=\"T_8caf6574_8f46_11ea_8596_88e9fe79ef52row7_col1\" class=\"data row7 col1\" >1899.120000</td>\n",
       "            </tr>\n",
       "            <tr>\n",
       "                        <th id=\"T_8caf6574_8f46_11ea_8596_88e9fe79ef52level0_row8\" class=\"row_heading level0 row8\" >income</th>\n",
       "                        <td id=\"T_8caf6574_8f46_11ea_8596_88e9fe79ef52row8_col0\" class=\"data row8 col0\" >45.000000</td>\n",
       "                        <td id=\"T_8caf6574_8f46_11ea_8596_88e9fe79ef52row8_col1\" class=\"data row8 col1\" >0.540000</td>\n",
       "            </tr>\n",
       "            <tr>\n",
       "                        <th id=\"T_8caf6574_8f46_11ea_8596_88e9fe79ef52level0_row9\" class=\"row_heading level0 row9\" >debt_to_income_ratio</th>\n",
       "                        <td id=\"T_8caf6574_8f46_11ea_8596_88e9fe79ef52row9_col0\" class=\"data row9 col0\" >17.000000</td>\n",
       "                        <td id=\"T_8caf6574_8f46_11ea_8596_88e9fe79ef52row9_col1\" class=\"data row9 col1\" >0.380000</td>\n",
       "            </tr>\n",
       "            <tr>\n",
       "                        <th id=\"T_8caf6574_8f46_11ea_8596_88e9fe79ef52level0_row10\" class=\"row_heading level0 row10\" >loan_amount</th>\n",
       "                        <td id=\"T_8caf6574_8f46_11ea_8596_88e9fe79ef52row10_col0\" class=\"data row10 col0\" >335000.000000</td>\n",
       "                        <td id=\"T_8caf6574_8f46_11ea_8596_88e9fe79ef52row10_col1\" class=\"data row10 col1\" >524.720000</td>\n",
       "            </tr>\n",
       "            <tr>\n",
       "                        <th id=\"T_8caf6574_8f46_11ea_8596_88e9fe79ef52level0_row11\" class=\"row_heading level0 row11\" >applicant_ethnicity_1</th>\n",
       "                        <td id=\"T_8caf6574_8f46_11ea_8596_88e9fe79ef52row11_col0\" class=\"data row11 col0\" >1.000000</td>\n",
       "                        <td id=\"T_8caf6574_8f46_11ea_8596_88e9fe79ef52row11_col1\" class=\"data row11 col1\" >0.500000</td>\n",
       "            </tr>\n",
       "            <tr>\n",
       "                        <th id=\"T_8caf6574_8f46_11ea_8596_88e9fe79ef52level0_row12\" class=\"row_heading level0 row12\" >applicant_race_1</th>\n",
       "                        <td id=\"T_8caf6574_8f46_11ea_8596_88e9fe79ef52row12_col0\" class=\"data row12 col0\" >4.000000</td>\n",
       "                        <td id=\"T_8caf6574_8f46_11ea_8596_88e9fe79ef52row12_col1\" class=\"data row12 col1\" >3.500000</td>\n",
       "            </tr>\n",
       "            <tr>\n",
       "                        <th id=\"T_8caf6574_8f46_11ea_8596_88e9fe79ef52level0_row13\" class=\"row_heading level0 row13\" >applicant_sex</th>\n",
       "                        <td id=\"T_8caf6574_8f46_11ea_8596_88e9fe79ef52row13_col0\" class=\"data row13 col0\" >1.000000</td>\n",
       "                        <td id=\"T_8caf6574_8f46_11ea_8596_88e9fe79ef52row13_col1\" class=\"data row13 col1\" >0.000000</td>\n",
       "            </tr>\n",
       "            <tr>\n",
       "                        <th id=\"T_8caf6574_8f46_11ea_8596_88e9fe79ef52level0_row14\" class=\"row_heading level0 row14\" >action_taken</th>\n",
       "                        <td id=\"T_8caf6574_8f46_11ea_8596_88e9fe79ef52row14_col0\" class=\"data row14 col0\" >Accepted</td>\n",
       "                        <td id=\"T_8caf6574_8f46_11ea_8596_88e9fe79ef52row14_col1\" class=\"data row14 col1\" >Accepted</td>\n",
       "            </tr>\n",
       "    </tbody></table>"
      ],
      "text/plain": [
       "<pandas.io.formats.style.Styler at 0x14a104f98>"
      ]
     },
     "execution_count": 27,
     "metadata": {},
     "output_type": "execute_result"
    }
   ],
   "source": [
    "Xpp = delta_pp\n",
    "classes = [ class_names[np.argmax(nn.predict_proba(X))], class_names[np.argmax(nn.predict_proba(Xpp))]]\n",
    "\n",
    "print(\"PP for Sample:\", idx)\n",
    "print(\"Prediction(Xpp) :\", class_names[np.argmax(nn.predict_proba(Xpp))])\n",
    "print(\"Prediction probabilities for Xpp:\", nn.predict_proba(Xpp))\n",
    "print(\"\")\n",
    "\n",
    "\n",
    "Xpp_re = X - adv_pp\n",
    "Xpp_re = np.around(Xpp_re.astype(np.double), 2)\n",
    "Xpp_re[Xpp_re < 1e-4] = 0\n",
    "\n",
    "X2 = np.vstack((X, Xpp_re))\n",
    "\n",
    "dfpp = pd.DataFrame.from_records(X2.astype('double')) # Showcase a dataframe for the original point and PP\n",
    "dfpp[23] = classes\n",
    "dfpp.columns = data.columns\n",
    "dfpp.rename(index={0:'X',1:'X_PP'}, inplace=True)\n",
    "dfppt = dfpp.transpose()\n",
    "\n",
    "def highlight_ce(s, col, ncols):\n",
    "    if (type(s[col]) != str):\n",
    "        if (s[col] > 0):\n",
    "            return(['background-color: yellow']*ncols)    \n",
    "    return(['background-color: white']*ncols)\n",
    "\n",
    "dfppt.style.apply(highlight_ce, col='X_PP', ncols=2, axis=1)"
   ]
  },
  {
   "cell_type": "code",
   "execution_count": 28,
   "metadata": {},
   "outputs": [
    {
     "data": {
      "image/png": "[encoded data removed]",
      "text/plain": [
       "<Figure size 640x480 with 1 Axes>"
      ]
     },
     "metadata": {},
     "output_type": "display_data"
    }
   ],
   "source": [
    "plt.rcdefaults()\n",
    "fi = abs(Xpp_re.astype('double'))/np.std(dfTrain.astype('double'), axis=0) # Compute PP feature importance\n",
    "    \n",
    "objects = data.columns[-2::-1]\n",
    "y_pos = np.arange(len(objects)) # Get input feature names\n",
    "performance = fi[0, -1::-1]\n",
    "\n",
    "plt.barh(y_pos, performance, align='center', alpha=0.5) # Bar chart\n",
    "plt.yticks(y_pos, objects) # Plot feature names on y-axis\n",
    "plt.xlabel('weight') #x-label\n",
    "plt.title('PP (feature importance)') # Figure heading\n",
    "\n",
    "plt.show()    # Display the feature importance"
   ]
  },
  {
   "cell_type": "code",
   "execution_count": null,
   "metadata": {},
   "outputs": [],
   "source": []
  }
 ],
 "metadata": {
  "kernelspec": {
   "display_name": "Python 3",
   "language": "python",
   "name": "python3"
  },
  "language_info": {
   "codemirror_mode": {
    "name": "ipython",
    "version": 3
   },
   "file_extension": ".py",
   "mimetype": "text/x-python",
   "name": "python",
   "nbconvert_exporter": "python",
   "pygments_lexer": "ipython3",
   "version": "3.6.9"
  }
 },
 "nbformat": 4,
 "nbformat_minor": 2
}
